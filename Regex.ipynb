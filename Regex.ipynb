{
 "cells": [
  {
   "cell_type": "markdown",
   "metadata": {
    "toc": true
   },
   "source": [
    "<h1>Table of Contents<span class=\"tocSkip\"></span></h1>\n",
    "<div class=\"toc\"><ul class=\"toc-item\"><li><span><a href=\"#Le-module-«re».\" data-toc-modified-id=\"Le-module-«re».-1\"><span class=\"toc-item-num\">1&nbsp;&nbsp;</span>Le module «re».</a></span><ul class=\"toc-item\"><li><ul class=\"toc-item\"><li><span><a href=\"#Les-expressions-rationnelles-(Expression-régulière-ou-Regular-expression-ou-RE).\" data-toc-modified-id=\"Les-expressions-rationnelles-(Expression-régulière-ou-Regular-expression-ou-RE).-1.0.1\"><span class=\"toc-item-num\">1.0.1&nbsp;&nbsp;</span>Les expressions rationnelles (Expression régulière ou Regular expression ou RE).</a></span></li></ul></li></ul></li><li><span><a href=\"#La-correspondance-de-caractères.\" data-toc-modified-id=\"La-correspondance-de-caractères.-2\"><span class=\"toc-item-num\">2&nbsp;&nbsp;</span>La correspondance de caractères.</a></span><ul class=\"toc-item\"><li><span><a href=\"#search(reg,-text)\" data-toc-modified-id=\"search(reg,-text)-2.1\"><span class=\"toc-item-num\">2.1&nbsp;&nbsp;</span>search(reg, text)</a></span><ul class=\"toc-item\"><li><span><a href=\"#«-|-»-opérateur-OU.\" data-toc-modified-id=\"«-|-»-opérateur-OU.-2.1.1\"><span class=\"toc-item-num\">2.1.1&nbsp;&nbsp;</span>« | » opérateur OU.<br></a></span></li></ul></li></ul></li><li><span><a href=\"#Caractère-spéciaux.\" data-toc-modified-id=\"Caractère-spéciaux.-3\"><span class=\"toc-item-num\">3&nbsp;&nbsp;</span>Caractère spéciaux.</a></span><ul class=\"toc-item\"><li><span><a href=\"#«[-]»-Recherche-un-caractère-contenu-entre-ces-crochets.Utilisé-pour-spécifier-une-classe-de-caractères-qui-forme-un-ensemble-de-caractères.\" data-toc-modified-id=\"«[-]»-Recherche-un-caractère-contenu-entre-ces-crochets.Utilisé-pour-spécifier-une-classe-de-caractères-qui-forme-un-ensemble-de-caractères.-3.1\"><span class=\"toc-item-num\">3.1&nbsp;&nbsp;</span>«[ ]» Recherche un caractère contenu entre ces crochets.<br>Utilisé pour spécifier une classe de caractères qui forme un ensemble de caractères.</a></span><ul class=\"toc-item\"><li><span><a href=\"#Les-caractères-qui-se-situent-entre-[-]-ont-une-signification-de-OU-entre-elles.\" data-toc-modified-id=\"Les-caractères-qui-se-situent-entre-[-]-ont-une-signification-de-OU-entre-elles.-3.1.1\"><span class=\"toc-item-num\">3.1.1&nbsp;&nbsp;</span>Les caractères qui se situent entre [ ] ont une signification de OU entre elles.</a></span></li><li><span><a href=\"#Les-caractères-spéciaux-qui-se-situent-entre-«[-]»-perdent-leurs-effets.\" data-toc-modified-id=\"Les-caractères-spéciaux-qui-se-situent-entre-«[-]»-perdent-leurs-effets.-3.1.2\"><span class=\"toc-item-num\">3.1.2&nbsp;&nbsp;</span>Les caractères spéciaux qui se situent entre «[ ]» perdent leurs effets.</a></span></li><li><span><a href=\"#Les-classes-de-caractère-prédéfini-(\\w,-\\s...)-fonctionne-aussi-entre-«[-]».\" data-toc-modified-id=\"Les-classes-de-caractère-prédéfini-(\\w,-\\s...)-fonctionne-aussi-entre-«[-]».-3.1.3\"><span class=\"toc-item-num\">3.1.3&nbsp;&nbsp;</span>Les classes de caractère prédéfini (\\w, \\s...) fonctionne aussi entre «[ ]».</a></span></li><li><span><a href=\"#«[^-]»-Recherche-n'importe-quel-caractère-qui-n'est-pas-contenu-entre-ces-crochets.\" data-toc-modified-id=\"«[^-]»-Recherche-n'importe-quel-caractère-qui-n'est-pas-contenu-entre-ces-crochets.-3.1.4\"><span class=\"toc-item-num\">3.1.4&nbsp;&nbsp;</span>«[^ ]» Recherche n'importe quel caractère qui n'est pas contenu entre ces crochets.</a></span></li><li><span><a href=\"#«^»-Recherche-en-début-de-texte.\" data-toc-modified-id=\"«^»-Recherche-en-début-de-texte.-3.1.5\"><span class=\"toc-item-num\">3.1.5&nbsp;&nbsp;</span>«^» Recherche en début de texte.</a></span></li><li><span><a href=\"#«$»-Recherche-en-fin-de-texte.\" data-toc-modified-id=\"«$»-Recherche-en-fin-de-texte.-3.1.6\"><span class=\"toc-item-num\">3.1.6&nbsp;&nbsp;</span>«$» Recherche en fin de texte.</a></span></li><li><span><a href=\"#Recherche-un-texte-qui-se-situe-en-même-temps-au-début-et-en-fin-de-chaine.\" data-toc-modified-id=\"Recherche-un-texte-qui-se-situe-en-même-temps-au-début-et-en-fin-de-chaine.-3.1.7\"><span class=\"toc-item-num\">3.1.7&nbsp;&nbsp;</span>Recherche un texte qui se situe en même temps au début et en fin de chaine.</a></span></li><li><span><a href=\"#«.»-Recherche-n'importe-quel-caractère-de-longueur-1-excepté-le-saut-de-ligne.\" data-toc-modified-id=\"«.»-Recherche-n'importe-quel-caractère-de-longueur-1-excepté-le-saut-de-ligne.-3.1.8\"><span class=\"toc-item-num\">3.1.8&nbsp;&nbsp;</span>«.» Recherche n'importe quel caractère de longueur 1 excepté le saut de ligne.</a></span></li><li><span><a href=\"#«*»-Recherche-l'expression-qui-précède-«*»-0-ou-n-fois.\" data-toc-modified-id=\"«*»-Recherche-l'expression-qui-précède-«*»-0-ou-n-fois.-3.1.9\"><span class=\"toc-item-num\">3.1.9&nbsp;&nbsp;</span>«*<em>» Recherche l'expression qui précède «*</em>» 0 ou n fois.</a></span></li><li><span><a href=\"#«+»-Recherche-l'expression-qui-précède-«+»-1-ou-n-fois.\" data-toc-modified-id=\"«+»-Recherche-l'expression-qui-précède-«+»-1-ou-n-fois.-3.1.10\"><span class=\"toc-item-num\">3.1.10&nbsp;&nbsp;</span>«+» Recherche l'expression qui précède «+» 1 ou n fois.</a></span></li><li><span><a href=\"#«?»-Recherche-l'expression-qui-précède-«?»-0-ou-1-fois.\" data-toc-modified-id=\"«?»-Recherche-l'expression-qui-précède-«?»-0-ou-1-fois.-3.1.11\"><span class=\"toc-item-num\">3.1.11&nbsp;&nbsp;</span>«?» Recherche l'expression qui précède «?» 0 ou 1 fois.</a></span></li><li><span><a href=\"#«{n}»-Recherche-l'expression-qui-précède-«{n}»-n-fois.\" data-toc-modified-id=\"«{n}»-Recherche-l'expression-qui-précède-«{n}»-n-fois.-3.1.12\"><span class=\"toc-item-num\">3.1.12&nbsp;&nbsp;</span>«{n}» Recherche l'expression qui précède «{n}» n fois.</a></span></li><li><span><a href=\"#«{n,-m}»-Recherche-l'expression-qui-précède-«{n,-m}»-entre-n-et-m-fois.\" data-toc-modified-id=\"«{n,-m}»-Recherche-l'expression-qui-précède-«{n,-m}»-entre-n-et-m-fois.-3.1.13\"><span class=\"toc-item-num\">3.1.13&nbsp;&nbsp;</span>«{n, m}» Recherche l'expression qui précède «{n, m}» entre n et m fois.</a></span></li><li><span><a href=\"#«{n,}»-Recherche-l'expression-qui-précède-«{n,}»-au-moins-n-fois.\" data-toc-modified-id=\"«{n,}»-Recherche-l'expression-qui-précède-«{n,}»-au-moins-n-fois.-3.1.14\"><span class=\"toc-item-num\">3.1.14&nbsp;&nbsp;</span>«{n,}» Recherche l'expression qui précède «{n,}» au moins n fois.</a></span></li><li><span><a href=\"#«{,m}»-Recherche-l'expression-qui-précède-«{,m}»-au-plus-m-fois.\" data-toc-modified-id=\"«{,m}»-Recherche-l'expression-qui-précède-«{,m}»-au-plus-m-fois.-3.1.15\"><span class=\"toc-item-num\">3.1.15&nbsp;&nbsp;</span>«{,m}» Recherche l'expression qui précède «{,m}» au plus m fois.</a></span></li><li><span><a href=\"#«.*»-Recherche-n'importe-quelle-chaine-de-caractère-de-n'importe-quelle-longueur,-même-vide.\" data-toc-modified-id=\"«.*»-Recherche-n'importe-quelle-chaine-de-caractère-de-n'importe-quelle-longueur,-même-vide.-3.1.16\"><span class=\"toc-item-num\">3.1.16&nbsp;&nbsp;</span>«.*» Recherche n'importe quelle chaine de caractère de n'importe quelle longueur, même vide.</a></span></li><li><span><a href=\"#«.+»-Recherche-n'importe-quelle-chaine-de-caractère-de-longueur-d'au-moins-1.\" data-toc-modified-id=\"«.+»-Recherche-n'importe-quelle-chaine-de-caractère-de-longueur-d'au-moins-1.-3.1.17\"><span class=\"toc-item-num\">3.1.17&nbsp;&nbsp;</span>«.+» Recherche n'importe quelle chaine de caractère de longueur d'au moins 1.</a></span></li><li><span><a href=\"#«*?»,-«+?»,-«??»,-«{m,-n}?»-Opérateur-non-greedy.\" data-toc-modified-id=\"«*?»,-«+?»,-«??»,-«{m,-n}?»-Opérateur-non-greedy.-3.1.18\"><span class=\"toc-item-num\">3.1.18&nbsp;&nbsp;</span>«*?», «+?», «??», «{m, n}?» Opérateur non greedy.</a></span></li><li><span><a href=\"#«(-)»-Permet-de-créer-des-groupes-dans-une-expression-régulière.\" data-toc-modified-id=\"«(-)»-Permet-de-créer-des-groupes-dans-une-expression-régulière.-3.1.19\"><span class=\"toc-item-num\">3.1.19&nbsp;&nbsp;</span>«( )» Permet de créer des groupes dans une expression régulière.</a></span></li><li><span><a href=\"#Dans-un-groupe,-le-caractère-«-|-»-est-utilisé-pour-représenter-un-OU-afin-de-regrouper-plusieurs-expressions-régulières-dans-un-seul-et-même-groupe.\" data-toc-modified-id=\"Dans-un-groupe,-le-caractère-«-|-»-est-utilisé-pour-représenter-un-OU-afin-de-regrouper-plusieurs-expressions-régulières-dans-un-seul-et-même-groupe.-3.1.20\"><span class=\"toc-item-num\">3.1.20&nbsp;&nbsp;</span>Dans un groupe, le caractère « | » est utilisé pour représenter un OU afin de regrouper plusieurs expressions régulières dans un seul et même groupe.</a></span></li><li><span><a href=\"#«\\»-Caractère-d'échappement.\" data-toc-modified-id=\"«\\»-Caractère-d'échappement.-3.1.21\"><span class=\"toc-item-num\">3.1.21&nbsp;&nbsp;</span>«\\» Caractère d'échappement.</a></span></li></ul></li></ul></li><li><span><a href=\"#Compilation-des-expressions-régulières\" data-toc-modified-id=\"Compilation-des-expressions-régulières-4\"><span class=\"toc-item-num\">4&nbsp;&nbsp;</span>Compilation des expressions régulières</a></span></li><li><span><a href=\"#Les-classes-de-caractère.\" data-toc-modified-id=\"Les-classes-de-caractère.-5\"><span class=\"toc-item-num\">5&nbsp;&nbsp;</span>Les classes de caractère.</a></span><ul class=\"toc-item\"><li><ul class=\"toc-item\"><li><span><a href=\"#«\\d»\" data-toc-modified-id=\"«\\d»-5.0.1\"><span class=\"toc-item-num\">5.0.1&nbsp;&nbsp;</span>«\\d»</a></span></li><li><span><a href=\"#«\\D»\" data-toc-modified-id=\"«\\D»-5.0.2\"><span class=\"toc-item-num\">5.0.2&nbsp;&nbsp;</span>«\\D»</a></span></li><li><span><a href=\"#«\\w»\" data-toc-modified-id=\"«\\w»-5.0.3\"><span class=\"toc-item-num\">5.0.3&nbsp;&nbsp;</span>«\\w»</a></span></li><li><span><a href=\"#«\\W»\" data-toc-modified-id=\"«\\W»-5.0.4\"><span class=\"toc-item-num\">5.0.4&nbsp;&nbsp;</span>«\\W»</a></span></li><li><span><a href=\"#«\\s»\" data-toc-modified-id=\"«\\s»-5.0.5\"><span class=\"toc-item-num\">5.0.5&nbsp;&nbsp;</span>«\\s»</a></span></li><li><span><a href=\"#«\\S»\" data-toc-modified-id=\"«\\S»-5.0.6\"><span class=\"toc-item-num\">5.0.6&nbsp;&nbsp;</span>«\\S»</a></span></li><li><span><a href=\"#«\\b»\" data-toc-modified-id=\"«\\b»-5.0.7\"><span class=\"toc-item-num\">5.0.7&nbsp;&nbsp;</span>«\\b»</a></span></li><li><span><a href=\"#«\\B»\" data-toc-modified-id=\"«\\B»-5.0.8\"><span class=\"toc-item-num\">5.0.8&nbsp;&nbsp;</span>«\\B»</a></span></li></ul></li></ul></li><li><span><a href=\"#Les-méthodes-du-module-re.py.\" data-toc-modified-id=\"Les-méthodes-du-module-re.py.-6\"><span class=\"toc-item-num\">6&nbsp;&nbsp;</span>Les méthodes du module re.py.</a></span><ul class=\"toc-item\"><li><ul class=\"toc-item\"><li><span><a href=\"#search(reg,-text)\" data-toc-modified-id=\"search(reg,-text)-6.0.1\"><span class=\"toc-item-num\">6.0.1&nbsp;&nbsp;</span>search(reg, text)</a></span></li><li><span><a href=\"#match(reg,-text)\" data-toc-modified-id=\"match(reg,-text)-6.0.2\"><span class=\"toc-item-num\">6.0.2&nbsp;&nbsp;</span>match(reg, text)</a></span></li><li><span><a href=\"#fullmatch(reg,-text)\" data-toc-modified-id=\"fullmatch(reg,-text)-6.0.3\"><span class=\"toc-item-num\">6.0.3&nbsp;&nbsp;</span>fullmatch(reg, text)</a></span></li><li><span><a href=\"#start()-&amp;-end()-&amp;-span()\" data-toc-modified-id=\"start()-&amp;-end()-&amp;-span()-6.0.4\"><span class=\"toc-item-num\">6.0.4&nbsp;&nbsp;</span>start() &amp; end() &amp; span()</a></span></li><li><span><a href=\"#findall(reg)\" data-toc-modified-id=\"findall(reg)-6.0.5\"><span class=\"toc-item-num\">6.0.5&nbsp;&nbsp;</span>findall(reg)</a></span></li><li><span><a href=\"#split()\" data-toc-modified-id=\"split()-6.0.6\"><span class=\"toc-item-num\">6.0.6&nbsp;&nbsp;</span>split()</a></span></li><li><span><a href=\"#Les-groupes\" data-toc-modified-id=\"Les-groupes-6.0.7\"><span class=\"toc-item-num\">6.0.7&nbsp;&nbsp;</span>Les groupes</a></span></li><li><span><a href=\"#Nommage-d'un-groupe.\" data-toc-modified-id=\"Nommage-d'un-groupe.-6.0.8\"><span class=\"toc-item-num\">6.0.8&nbsp;&nbsp;</span>Nommage d'un groupe.</a></span></li><li><span><a href=\"#Réutilisation-d'un-même-groupe.\" data-toc-modified-id=\"Réutilisation-d'un-même-groupe.-6.0.9\"><span class=\"toc-item-num\">6.0.9&nbsp;&nbsp;</span>Réutilisation d'un même groupe.</a></span></li><li><span><a href=\"#«(?!reg)»-Assertion-prédictive-négative.\" data-toc-modified-id=\"«(?!reg)»-Assertion-prédictive-négative.-6.0.10\"><span class=\"toc-item-num\">6.0.10&nbsp;&nbsp;</span>«(?!reg)» Assertion prédictive négative.</a></span></li><li><span><a href=\"#«(?<=reg)»-Positive-lookbehind-assertion.\" data-toc-modified-id=\"«(?<=reg)»-Positive-lookbehind-assertion.-6.0.11\"><span class=\"toc-item-num\">6.0.11&nbsp;&nbsp;</span>«(?&lt;=reg)» Positive lookbehind assertion.</a></span></li><li><span><a href=\"#«(?<!reg)»-Negative-lookbehind-assertion.\" data-toc-modified-id=\"«(?<!reg)»-Negative-lookbehind-assertion.-6.0.12\"><span class=\"toc-item-num\">6.0.12&nbsp;&nbsp;</span>«(?&lt;!reg)» Negative lookbehind assertion.</a></span></li><li><span><a href=\"#«(?:reg)»\" data-toc-modified-id=\"«(?:reg)»-6.0.13\"><span class=\"toc-item-num\">6.0.13&nbsp;&nbsp;</span>«(?:reg)»</a></span></li><li><span><a href=\"#«(?#reg)»\" data-toc-modified-id=\"«(?#reg)»-6.0.14\"><span class=\"toc-item-num\">6.0.14&nbsp;&nbsp;</span>«(?#reg)»</a></span></li><li><span><a href=\"#«(?(group_id)regA|regB)»\" data-toc-modified-id=\"«(?(group_id)regA|regB)»-6.0.15\"><span class=\"toc-item-num\">6.0.15&nbsp;&nbsp;</span>«(?(group_id)regA|regB)»<br></a></span></li><li><span><a href=\"#«(?(group_name)regA|regB)»\" data-toc-modified-id=\"«(?(group_name)regA|regB)»-6.0.16\"><span class=\"toc-item-num\">6.0.16&nbsp;&nbsp;</span>«(?(group_name)regA|regB)»</a></span></li></ul></li></ul></li><li><span><a href=\"#Le-remplacement-de-correspondance.\" data-toc-modified-id=\"Le-remplacement-de-correspondance.-7\"><span class=\"toc-item-num\">7&nbsp;&nbsp;</span>Le remplacement de correspondance.</a></span><ul class=\"toc-item\"><li><ul class=\"toc-item\"><li><span><a href=\"#sub(reg,-texte)-&amp;-subn\" data-toc-modified-id=\"sub(reg,-texte)-&amp;-subn-7.0.1\"><span class=\"toc-item-num\">7.0.1&nbsp;&nbsp;</span>sub(reg, texte) &amp; subn</a></span></li><li><span><a href=\"#Il-est-possible-de-remplacer-les-correspondances-en-utilisant-les-groupes-grâce-à-«\\\\n»-où-n-correspond-au-nom-du-groupe.-Il-est-aussi-possible-d'utiliser-le-nommage-de-groupe-ou-une-fonction.\" data-toc-modified-id=\"Il-est-possible-de-remplacer-les-correspondances-en-utilisant-les-groupes-grâce-à-«\\\\n»-où-n-correspond-au-nom-du-groupe.-Il-est-aussi-possible-d'utiliser-le-nommage-de-groupe-ou-une-fonction.-7.0.2\"><span class=\"toc-item-num\">7.0.2&nbsp;&nbsp;</span>Il est possible de remplacer les correspondances en utilisant les groupes grâce à «\\\\n» où n correspond au nom du groupe. Il est aussi possible d'utiliser le nommage de groupe ou une fonction.</a></span></li></ul></li></ul></li><li><span><a href=\"#Tips.\" data-toc-modified-id=\"Tips.-8\"><span class=\"toc-item-num\">8&nbsp;&nbsp;</span>Tips.</a></span></li><li><span><a href=\"#Sources\" data-toc-modified-id=\"Sources-9\"><span class=\"toc-item-num\">9&nbsp;&nbsp;</span>Sources</a></span></li></ul></div>"
   ]
  },
  {
   "cell_type": "markdown",
   "metadata": {},
   "source": [
    "# Le module «re».\n",
    "### Les expressions rationnelles (Expression régulière ou Regular expression ou RE).\n",
    "Dans ce module, les expressions rationnelles sont utilisées pour trouver des correspondances dans une chaine de texte, si la RE en trouve au moins une on dit qu'elle reconnait ou valide la chaine. Une fois une correspondance trouvée, on peut la remplacer."
   ]
  },
  {
   "cell_type": "code",
   "execution_count": 1,
   "metadata": {
    "pycharm": {
     "name": "#%%\n"
    }
   },
   "outputs": [],
   "source": [
    "import re\n",
    "from typing import Pattern, Optional, Match, Any"
   ]
  },
  {
   "cell_type": "markdown",
   "metadata": {
    "pycharm": {
     "name": "#%% md\n"
    }
   },
   "source": [
    "# La correspondance de caractères.\n",
    "Le moteur de correspondance essaie de trouver la correspondance la plus longue. Balaie la chaîne de caractères et rapporte la première correspondance qu'il trouve.\n",
    "## search(reg, text)\n",
    "On effectue une recherche d'une correspondance dans un texte avec la méthode search.\n",
    "Si la RE trouve une correspondance, retourne un objet Match sinon retourne None."
   ]
  },
  {
   "cell_type": "markdown",
   "metadata": {
    "pycharm": {
     "name": "#%% md\n"
    }
   },
   "source": [
    "La RE reconnait le texte \"ab\"."
   ]
  },
  {
   "cell_type": "code",
   "execution_count": 2,
   "metadata": {
    "pycharm": {
     "name": "#%%\n"
    }
   },
   "outputs": [
    {
     "data": {
      "text/plain": [
       "True"
      ]
     },
     "execution_count": 2,
     "metadata": {},
     "output_type": "execute_result"
    }
   ],
   "source": [
    "pattern: str = \"ab\"\n",
    "text: str = \"___ab___\"\n",
    "_: Optional[Match[str]] = re.search(pattern, text)\n",
    "_ is not None"
   ]
  },
  {
   "cell_type": "markdown",
   "metadata": {},
   "source": [
    "La RE ne reconnait pas le texte \"c\"."
   ]
  },
  {
   "cell_type": "code",
   "execution_count": 3,
   "metadata": {
    "pycharm": {
     "name": "#%%\n"
    }
   },
   "outputs": [
    {
     "data": {
      "text/plain": [
       "False"
      ]
     },
     "execution_count": 3,
     "metadata": {},
     "output_type": "execute_result"
    }
   ],
   "source": [
    "re.search(\"c\", \"ab\") is not None"
   ]
  },
  {
   "cell_type": "markdown",
   "metadata": {},
   "source": [
    "### « | » opérateur OU.</br>\n",
    "La RE reconnait le texte \"Hello\" et \"Salut\"."
   ]
  },
  {
   "cell_type": "code",
   "execution_count": 4,
   "metadata": {
    "pycharm": {
     "name": "#%%\n"
    }
   },
   "outputs": [
    {
     "data": {
      "text/plain": [
       "<re.Match object; span=(3, 8), match='Salut'>"
      ]
     },
     "execution_count": 4,
     "metadata": {},
     "output_type": "execute_result"
    }
   ],
   "source": [
    "re.search(\"Hello|Salut\", \"___Salut___\")"
   ]
  },
  {
   "cell_type": "markdown",
   "metadata": {},
   "source": [
    "# Caractère spéciaux.\n",
    "## «[ ]» Recherche un caractère contenu entre ces crochets.</br>Utilisé pour spécifier une classe de caractères qui forme un ensemble de caractères.\n",
    "### Les caractères qui se situent entre [ ] ont une signification de OU entre elles.\n",
    "La RE reconnait le texte \"Hello\" et \"Hella\"."
   ]
  },
  {
   "cell_type": "code",
   "execution_count": 5,
   "metadata": {
    "pycharm": {
     "name": "#%%\n"
    }
   },
   "outputs": [
    {
     "data": {
      "text/plain": [
       "<re.Match object; span=(3, 8), match='Hella'>"
      ]
     },
     "execution_count": 5,
     "metadata": {},
     "output_type": "execute_result"
    }
   ],
   "source": [
    "re.search(\"Hell[ao]\", \"___Hella___\")"
   ]
  },
  {
   "cell_type": "code",
   "execution_count": 6,
   "metadata": {
    "pycharm": {
     "name": "#%%\n"
    }
   },
   "outputs": [],
   "source": [
    "re.search(\"Hell[ao]\", \"___Hellz___\")"
   ]
  },
  {
   "cell_type": "markdown",
   "metadata": {},
   "source": [
    "### Les caractères spéciaux qui se situent entre «[ ]» perdent leurs effets."
   ]
  },
  {
   "cell_type": "code",
   "execution_count": 7,
   "metadata": {
    "pycharm": {
     "name": "#%%\n"
    }
   },
   "outputs": [
    {
     "data": {
      "text/plain": [
       "<re.Match object; span=(3, 8), match='Hell?'>"
      ]
     },
     "execution_count": 7,
     "metadata": {},
     "output_type": "execute_result"
    }
   ],
   "source": [
    "re.search(\"Hell[()^?+*]\", \"___Hell?___\")"
   ]
  },
  {
   "cell_type": "markdown",
   "metadata": {},
   "source": [
    "### Les classes de caractère prédéfini (\\w, \\s...) fonctionne aussi entre «[ ]»."
   ]
  },
  {
   "cell_type": "code",
   "execution_count": 8,
   "metadata": {
    "pycharm": {
     "name": "#%%\n"
    }
   },
   "outputs": [
    {
     "data": {
      "text/plain": [
       "<re.Match object; span=(3, 8), match='Hell0'>"
      ]
     },
     "execution_count": 8,
     "metadata": {},
     "output_type": "execute_result"
    }
   ],
   "source": [
    "re.search(\"Hell[\\w]\", \"___Hell0___\")"
   ]
  },
  {
   "cell_type": "markdown",
   "metadata": {
    "pycharm": {
     "name": "#%% md\n"
    }
   },
   "source": [
    "### «[^ ]» Recherche n'importe quel caractère qui n'est pas contenu entre ces crochets."
   ]
  },
  {
   "cell_type": "code",
   "execution_count": 9,
   "metadata": {
    "pycharm": {
     "name": "#%%\n"
    }
   },
   "outputs": [
    {
     "data": {
      "text/plain": [
       "<re.Match object; span=(3, 8), match='Hellz'>"
      ]
     },
     "execution_count": 9,
     "metadata": {},
     "output_type": "execute_result"
    }
   ],
   "source": [
    "re.search(\"Hell[^ao]\", \"___Hellz___\")"
   ]
  },
  {
   "cell_type": "code",
   "execution_count": 10,
   "metadata": {
    "pycharm": {
     "name": "#%%\n"
    }
   },
   "outputs": [],
   "source": [
    "re.search(\"Hell[^ao]\", \"___Hella___\")"
   ]
  },
  {
   "cell_type": "markdown",
   "metadata": {},
   "source": [
    "### «^» Recherche en début de texte.\n",
    "La RE reconnait le texte \"Hello\" et \"Hella\" en début de chaine."
   ]
  },
  {
   "cell_type": "code",
   "execution_count": 11,
   "metadata": {
    "pycharm": {
     "name": "#%%\n"
    }
   },
   "outputs": [
    {
     "data": {
      "text/plain": [
       "<re.Match object; span=(0, 5), match='Hella'>"
      ]
     },
     "execution_count": 11,
     "metadata": {},
     "output_type": "execute_result"
    }
   ],
   "source": [
    "re.search(\"^Hell[ao]\", \"Hella___\")"
   ]
  },
  {
   "cell_type": "code",
   "execution_count": 12,
   "metadata": {
    "pycharm": {
     "name": "#%%\n"
    }
   },
   "outputs": [],
   "source": [
    "re.search(\"^Hell[ao]\", \"_Hella___\")"
   ]
  },
  {
   "cell_type": "markdown",
   "metadata": {},
   "source": [
    "### «$» Recherche en fin de texte.\n",
    "La RE reconnait le texte \"Hello\" et \"Hella\" en fin de chaine."
   ]
  },
  {
   "cell_type": "code",
   "execution_count": 13,
   "metadata": {
    "pycharm": {
     "name": "#%%\n"
    }
   },
   "outputs": [
    {
     "data": {
      "text/plain": [
       "<re.Match object; span=(3, 8), match='Hella'>"
      ]
     },
     "execution_count": 13,
     "metadata": {},
     "output_type": "execute_result"
    }
   ],
   "source": [
    "re.search(\"Hell[ao]$\", \"___Hella\")"
   ]
  },
  {
   "cell_type": "code",
   "execution_count": 14,
   "metadata": {
    "pycharm": {
     "name": "#%%\n"
    }
   },
   "outputs": [],
   "source": [
    "re.search(\"Hell[ao]$\", \"___Hella_\")"
   ]
  },
  {
   "cell_type": "markdown",
   "metadata": {},
   "source": [
    "### Recherche un texte qui se situe en même temps au début et en fin de chaine.\n",
    "La RE reconnait le texte exact \"Hello\" et \"Hella\"."
   ]
  },
  {
   "cell_type": "code",
   "execution_count": 15,
   "metadata": {
    "pycharm": {
     "name": "#%%\n"
    }
   },
   "outputs": [
    {
     "data": {
      "text/plain": [
       "<re.Match object; span=(0, 5), match='Hella'>"
      ]
     },
     "execution_count": 15,
     "metadata": {},
     "output_type": "execute_result"
    }
   ],
   "source": [
    "re.search(\"^Hell[ao]$\", \"Hella\")"
   ]
  },
  {
   "cell_type": "code",
   "execution_count": 16,
   "metadata": {
    "pycharm": {
     "name": "#%%\n"
    }
   },
   "outputs": [],
   "source": [
    "re.search(\"^Hell[ao]$\", \"_Hella\")"
   ]
  },
  {
   "cell_type": "markdown",
   "metadata": {},
   "source": [
    "### «.» Recherche n'importe quel caractère de longueur 1 excepté le saut de ligne.\n",
    "La RE reconnait le texte contenant la lettre H suivit par n'importe quelle caractère suivit par \"llo\".</br>\n",
    "L'option DOTALL permet de prendre en compte les sauts de lignes."
   ]
  },
  {
   "cell_type": "code",
   "execution_count": 17,
   "metadata": {
    "pycharm": {
     "name": "#%%\n"
    }
   },
   "outputs": [
    {
     "data": {
      "text/plain": [
       "<re.Match object; span=(3, 8), match='Hullo'>"
      ]
     },
     "execution_count": 17,
     "metadata": {},
     "output_type": "execute_result"
    }
   ],
   "source": [
    "re.search(\"H.llo\", \"___Hullo___\")"
   ]
  },
  {
   "cell_type": "code",
   "execution_count": 18,
   "metadata": {
    "pycharm": {
     "name": "#%%\n"
    }
   },
   "outputs": [
    {
     "data": {
      "text/plain": [
       "<re.Match object; span=(3, 8), match='H\\nllo'>"
      ]
     },
     "execution_count": 18,
     "metadata": {},
     "output_type": "execute_result"
    }
   ],
   "source": [
    "re.search(re.compile(\"H.llo\", re.DOTALL), \"\"\"___H\n",
    "llo___\"\"\")"
   ]
  },
  {
   "cell_type": "code",
   "execution_count": 19,
   "metadata": {
    "pycharm": {
     "name": "#%%\n"
    }
   },
   "outputs": [
    {
     "data": {
      "text/plain": [
       "<re.Match object; span=(3, 8), match='H\\nllo'>"
      ]
     },
     "execution_count": 19,
     "metadata": {},
     "output_type": "execute_result"
    }
   ],
   "source": [
    "re.search(re.compile(\"H.llo\", re.DOTALL), \"___H\\nllo___\")"
   ]
  },
  {
   "cell_type": "code",
   "execution_count": 20,
   "metadata": {
    "pycharm": {
     "name": "#%%\n"
    }
   },
   "outputs": [],
   "source": [
    "re.search(\"H.llo\", \"___Hllo___\")"
   ]
  },
  {
   "cell_type": "code",
   "execution_count": 21,
   "metadata": {
    "pycharm": {
     "name": "#%%\n"
    }
   },
   "outputs": [],
   "source": [
    "re.search(\"H.llo\", \"___H\\nllo___\")"
   ]
  },
  {
   "cell_type": "code",
   "execution_count": 22,
   "metadata": {
    "pycharm": {
     "name": "#%%\n"
    }
   },
   "outputs": [],
   "source": [
    "re.search(\"H.llo\", \"\"\"___H\n",
    "llo___\"\"\")"
   ]
  },
  {
   "cell_type": "markdown",
   "metadata": {},
   "source": [
    "### «\\**» Recherche l'expression qui précède «\\**» 0 ou n fois.\n",
    "La RE reconnait le texte contenant la lettre «H» suivit par le caractère «e» répété au moins 0 fois suivit par \"llo\"."
   ]
  },
  {
   "cell_type": "code",
   "execution_count": 23,
   "metadata": {
    "pycharm": {
     "name": "#%%\n"
    }
   },
   "outputs": [
    {
     "data": {
      "text/plain": [
       "<re.Match object; span=(3, 8), match='Hello'>"
      ]
     },
     "execution_count": 23,
     "metadata": {},
     "output_type": "execute_result"
    }
   ],
   "source": [
    "re.search(\"He*llo\", \"___Hello___\")"
   ]
  },
  {
   "cell_type": "code",
   "execution_count": 24,
   "metadata": {
    "pycharm": {
     "name": "#%%\n"
    }
   },
   "outputs": [
    {
     "data": {
      "text/plain": [
       "<re.Match object; span=(3, 15), match='Heeeeeeeello'>"
      ]
     },
     "execution_count": 24,
     "metadata": {},
     "output_type": "execute_result"
    }
   ],
   "source": [
    "re.search(\"He*llo\", \"___Heeeeeeeello___\")"
   ]
  },
  {
   "cell_type": "code",
   "execution_count": 25,
   "metadata": {
    "pycharm": {
     "name": "#%%\n"
    }
   },
   "outputs": [
    {
     "data": {
      "text/plain": [
       "<re.Match object; span=(3, 7), match='Hllo'>"
      ]
     },
     "execution_count": 25,
     "metadata": {},
     "output_type": "execute_result"
    }
   ],
   "source": [
    "re.search(\"He*llo\", \"___Hllo___\")"
   ]
  },
  {
   "cell_type": "code",
   "execution_count": 26,
   "metadata": {
    "pycharm": {
     "name": "#%%\n"
    }
   },
   "outputs": [],
   "source": [
    "re.search(\"He*llo\", \"___llo___\")"
   ]
  },
  {
   "cell_type": "code",
   "execution_count": 27,
   "metadata": {
    "pycharm": {
     "name": "#%%\n"
    }
   },
   "outputs": [
    {
     "data": {
      "text/plain": [
       "<re.Match object; span=(3, 15), match='Haaeeaaeello'>"
      ]
     },
     "execution_count": 27,
     "metadata": {},
     "output_type": "execute_result"
    }
   ],
   "source": [
    "re.search(\"H[aeiouy]*llo\", \"___Haaeeaaeello___\")"
   ]
  },
  {
   "cell_type": "code",
   "execution_count": 28,
   "metadata": {
    "pycharm": {
     "name": "#%%\n"
    }
   },
   "outputs": [],
   "source": [
    "re.search(\"H[aeiouy]*llo\", \"___Haaeeaaeezllo___\")"
   ]
  },
  {
   "cell_type": "code",
   "execution_count": 29,
   "metadata": {
    "pycharm": {
     "name": "#%%\n"
    }
   },
   "outputs": [
    {
     "data": {
      "text/plain": [
       "<re.Match object; span=(3, 15), match='Heyeyeyeyllo'>"
      ]
     },
     "execution_count": 29,
     "metadata": {},
     "output_type": "execute_result"
    }
   ],
   "source": [
    "re.search(\"H(ey)*llo\", \"___Heyeyeyeyllo___\")"
   ]
  },
  {
   "cell_type": "code",
   "execution_count": 30,
   "metadata": {
    "pycharm": {
     "name": "#%%\n"
    }
   },
   "outputs": [],
   "source": [
    "re.search(\"H(ey)*llo\", \"___Heyello___\")"
   ]
  },
  {
   "cell_type": "markdown",
   "metadata": {},
   "source": [
    "### «+» Recherche l'expression qui précède «+» 1 ou n fois.\n",
    "La RE reconnait le texte contenant la lettre «H» suivit par le caractère «e» répété au moins 1 fois suivit par \"llo\"."
   ]
  },
  {
   "cell_type": "code",
   "execution_count": 31,
   "metadata": {
    "pycharm": {
     "name": "#%%\n"
    }
   },
   "outputs": [
    {
     "data": {
      "text/plain": [
       "<re.Match object; span=(3, 8), match='Hello'>"
      ]
     },
     "execution_count": 31,
     "metadata": {},
     "output_type": "execute_result"
    }
   ],
   "source": [
    "re.search(\"He+llo\", \"___Hello___\")"
   ]
  },
  {
   "cell_type": "code",
   "execution_count": 32,
   "metadata": {
    "pycharm": {
     "name": "#%%\n"
    }
   },
   "outputs": [
    {
     "data": {
      "text/plain": [
       "<re.Match object; span=(3, 15), match='Heeeeeeeello'>"
      ]
     },
     "execution_count": 32,
     "metadata": {},
     "output_type": "execute_result"
    }
   ],
   "source": [
    "re.search(\"He*llo\", \"___Heeeeeeeello___\")"
   ]
  },
  {
   "cell_type": "code",
   "execution_count": 33,
   "metadata": {
    "pycharm": {
     "name": "#%%\n"
    }
   },
   "outputs": [],
   "source": [
    "re.search(\"He+llo\", \"___Hllo___\")"
   ]
  },
  {
   "cell_type": "markdown",
   "metadata": {},
   "source": [
    "### «?» Recherche l'expression qui précède «?» 0 ou 1 fois.\n",
    "La RE reconnait le texte contenant la lettre H suivit par la lettre \"e\" ou la chaine vide suivit par \"llo\"."
   ]
  },
  {
   "cell_type": "code",
   "execution_count": 34,
   "metadata": {
    "pycharm": {
     "name": "#%%\n"
    }
   },
   "outputs": [
    {
     "data": {
      "text/plain": [
       "<re.Match object; span=(3, 7), match='Hllo'>"
      ]
     },
     "execution_count": 34,
     "metadata": {},
     "output_type": "execute_result"
    }
   ],
   "source": [
    "re.search(\"He?llo\", \"___Hllo___\")"
   ]
  },
  {
   "cell_type": "code",
   "execution_count": 35,
   "metadata": {
    "pycharm": {
     "name": "#%%\n"
    }
   },
   "outputs": [
    {
     "data": {
      "text/plain": [
       "<re.Match object; span=(3, 8), match='Hello'>"
      ]
     },
     "execution_count": 35,
     "metadata": {},
     "output_type": "execute_result"
    }
   ],
   "source": [
    "re.search(\"He?llo\", \"___Hello___\")"
   ]
  },
  {
   "cell_type": "code",
   "execution_count": 36,
   "metadata": {
    "pycharm": {
     "name": "#%%\n"
    }
   },
   "outputs": [],
   "source": [
    "re.search(\"He?llo\", \"___Heeeeeeeello___\")"
   ]
  },
  {
   "cell_type": "markdown",
   "metadata": {},
   "source": [
    "### «{n}» Recherche l'expression qui précède «{n}» n fois.\n",
    "La RE reconnait le texte contenant la lettre H suivit par 5 \"e\" suivit par \"llo\"."
   ]
  },
  {
   "cell_type": "code",
   "execution_count": 37,
   "metadata": {
    "pycharm": {
     "name": "#%%\n"
    }
   },
   "outputs": [
    {
     "data": {
      "text/plain": [
       "<re.Match object; span=(3, 12), match='Heeeeello'>"
      ]
     },
     "execution_count": 37,
     "metadata": {},
     "output_type": "execute_result"
    }
   ],
   "source": [
    "re.search(\"He{5}llo\", \"___Heeeeello___\")"
   ]
  },
  {
   "cell_type": "code",
   "execution_count": 38,
   "metadata": {
    "pycharm": {
     "name": "#%%\n"
    }
   },
   "outputs": [],
   "source": [
    "re.search(\"He{5}llo\", \"___Hello___\")"
   ]
  },
  {
   "cell_type": "markdown",
   "metadata": {},
   "source": [
    "### «{n, m}» Recherche l'expression qui précède «{n, m}» entre n et m fois.\n",
    "La RE reconnait le texte contenant la lettre H suivit par 3, 4 ou 5 \"e\" suivit par \"llo\"."
   ]
  },
  {
   "cell_type": "code",
   "execution_count": 39,
   "metadata": {
    "pycharm": {
     "name": "#%%\n"
    }
   },
   "outputs": [
    {
     "data": {
      "text/plain": [
       "<re.Match object; span=(3, 10), match='Heeello'>"
      ]
     },
     "execution_count": 39,
     "metadata": {},
     "output_type": "execute_result"
    }
   ],
   "source": [
    "re.search(\"He{3,5}llo\", \"___Heeello___\")"
   ]
  },
  {
   "cell_type": "code",
   "execution_count": 40,
   "metadata": {
    "pycharm": {
     "name": "#%%\n"
    }
   },
   "outputs": [
    {
     "data": {
      "text/plain": [
       "<re.Match object; span=(3, 11), match='Heeeello'>"
      ]
     },
     "execution_count": 40,
     "metadata": {},
     "output_type": "execute_result"
    }
   ],
   "source": [
    "re.search(\"He{3,5}llo\", \"___Heeeello___\")"
   ]
  },
  {
   "cell_type": "code",
   "execution_count": 41,
   "metadata": {
    "pycharm": {
     "name": "#%%\n"
    }
   },
   "outputs": [
    {
     "data": {
      "text/plain": [
       "<re.Match object; span=(3, 12), match='Heeeeello'>"
      ]
     },
     "execution_count": 41,
     "metadata": {},
     "output_type": "execute_result"
    }
   ],
   "source": [
    "re.search(\"He{3,5}llo\", \"___Heeeeello___\")"
   ]
  },
  {
   "cell_type": "code",
   "execution_count": 42,
   "metadata": {
    "pycharm": {
     "name": "#%%\n"
    }
   },
   "outputs": [],
   "source": [
    "re.search(\"He{3,5}llo\", \"___Hello___\")"
   ]
  },
  {
   "cell_type": "markdown",
   "metadata": {},
   "source": [
    "### «{n,}» Recherche l'expression qui précède «{n,}» au moins n fois.\n",
    "La RE reconnait le texte contenant la lettre H suivit par au moins 3 \"e\" suivit par \"llo\"."
   ]
  },
  {
   "cell_type": "code",
   "execution_count": 43,
   "metadata": {
    "pycharm": {
     "name": "#%%\n"
    }
   },
   "outputs": [
    {
     "data": {
      "text/plain": [
       "<re.Match object; span=(3, 10), match='Heeello'>"
      ]
     },
     "execution_count": 43,
     "metadata": {},
     "output_type": "execute_result"
    }
   ],
   "source": [
    "re.search(\"He{3,}llo\", \"___Heeello___\")"
   ]
  },
  {
   "cell_type": "code",
   "execution_count": 44,
   "metadata": {
    "pycharm": {
     "name": "#%%\n"
    }
   },
   "outputs": [
    {
     "data": {
      "text/plain": [
       "<re.Match object; span=(3, 11), match='Heeeello'>"
      ]
     },
     "execution_count": 44,
     "metadata": {},
     "output_type": "execute_result"
    }
   ],
   "source": [
    "re.search(\"He{3,}llo\", \"___Heeeello___\")"
   ]
  },
  {
   "cell_type": "code",
   "execution_count": 45,
   "metadata": {
    "pycharm": {
     "name": "#%%\n"
    }
   },
   "outputs": [],
   "source": [
    "re.search(\"He{3,}llo\", \"___Hello___\")"
   ]
  },
  {
   "cell_type": "markdown",
   "metadata": {},
   "source": [
    "### «{,m}» Recherche l'expression qui précède «{,m}» au plus m fois.\n",
    "La RE reconnait le texte contenant la lettre H suivit par au plus 3 \"e\" suivit par \"llo\"."
   ]
  },
  {
   "cell_type": "code",
   "execution_count": 46,
   "metadata": {
    "pycharm": {
     "name": "#%%\n"
    }
   },
   "outputs": [
    {
     "data": {
      "text/plain": [
       "<re.Match object; span=(3, 8), match='Hello'>"
      ]
     },
     "execution_count": 46,
     "metadata": {},
     "output_type": "execute_result"
    }
   ],
   "source": [
    "re.search(\"He{,3}llo\", \"___Hello___\")"
   ]
  },
  {
   "cell_type": "code",
   "execution_count": 47,
   "metadata": {
    "pycharm": {
     "name": "#%%\n"
    }
   },
   "outputs": [
    {
     "data": {
      "text/plain": [
       "<re.Match object; span=(3, 10), match='Heeello'>"
      ]
     },
     "execution_count": 47,
     "metadata": {},
     "output_type": "execute_result"
    }
   ],
   "source": [
    "re.search(\"He{,3}llo\", \"___Heeello___\")"
   ]
  },
  {
   "cell_type": "code",
   "execution_count": 48,
   "metadata": {
    "pycharm": {
     "name": "#%%\n"
    }
   },
   "outputs": [],
   "source": [
    "re.search(\"He{,3}llo\", \"___Heeeello___\")"
   ]
  },
  {
   "cell_type": "markdown",
   "metadata": {},
   "source": [
    "### «.*» Recherche n'importe quelle chaine de caractère de n'importe quelle longueur, même vide.\n",
    "La RE reconnait le texte contenant la lettre H suivit par n'importe quelle chaine de caractère de n'importe quelle longueur suivit par \"llo\"."
   ]
  },
  {
   "cell_type": "code",
   "execution_count": 49,
   "metadata": {
    "pycharm": {
     "name": "#%%\n"
    }
   },
   "outputs": [
    {
     "data": {
      "text/plain": [
       "<re.Match object; span=(3, 7), match='Hllo'>"
      ]
     },
     "execution_count": 49,
     "metadata": {},
     "output_type": "execute_result"
    }
   ],
   "source": [
    "re.search(\"H.*llo\", \"___Hllo___\")"
   ]
  },
  {
   "cell_type": "code",
   "execution_count": 50,
   "metadata": {
    "pycharm": {
     "name": "#%%\n"
    }
   },
   "outputs": [
    {
     "data": {
      "text/plain": [
       "<re.Match object; span=(3, 13), match='Huuuuuullo'>"
      ]
     },
     "execution_count": 50,
     "metadata": {},
     "output_type": "execute_result"
    }
   ],
   "source": [
    "re.search(\"H.*llo\", \"___Huuuuuullo___\")"
   ]
  },
  {
   "cell_type": "code",
   "execution_count": 51,
   "metadata": {
    "pycharm": {
     "name": "#%%\n"
    }
   },
   "outputs": [
    {
     "data": {
      "text/plain": [
       "<re.Match object; span=(3, 18), match='Huuuuuueeeeello'>"
      ]
     },
     "execution_count": 51,
     "metadata": {},
     "output_type": "execute_result"
    }
   ],
   "source": [
    "re.search(\"H.*llo\", \"___Huuuuuueeeeello___\")"
   ]
  },
  {
   "cell_type": "code",
   "execution_count": 52,
   "metadata": {
    "pycharm": {
     "name": "#%%\n"
    }
   },
   "outputs": [],
   "source": [
    "re.search(\"H.*llo\", \"___Huuuuuueeeeell___\")"
   ]
  },
  {
   "cell_type": "markdown",
   "metadata": {},
   "source": [
    "### «.+» Recherche n'importe quelle chaine de caractère de longueur d'au moins 1.\n",
    "La RE reconnait le texte contenant la lettre H suivit par n'importe quelle chaine de caractère suivit par \"llo\"."
   ]
  },
  {
   "cell_type": "code",
   "execution_count": 53,
   "metadata": {
    "pycharm": {
     "name": "#%%\n"
    }
   },
   "outputs": [
    {
     "data": {
      "text/plain": [
       "<re.Match object; span=(3, 8), match='Hello'>"
      ]
     },
     "execution_count": 53,
     "metadata": {},
     "output_type": "execute_result"
    }
   ],
   "source": [
    "re.search(\"H.+llo\", \"___Hello___\")"
   ]
  },
  {
   "cell_type": "code",
   "execution_count": 54,
   "metadata": {
    "pycharm": {
     "name": "#%%\n"
    }
   },
   "outputs": [
    {
     "data": {
      "text/plain": [
       "<re.Match object; span=(3, 13), match='Haieaiello'>"
      ]
     },
     "execution_count": 54,
     "metadata": {},
     "output_type": "execute_result"
    }
   ],
   "source": [
    "re.search(\"H.+llo\", \"___Haieaiello___\")"
   ]
  },
  {
   "cell_type": "code",
   "execution_count": 55,
   "metadata": {
    "pycharm": {
     "name": "#%%\n"
    }
   },
   "outputs": [],
   "source": [
    "re.search(\"H.+llo\", \"___Hllo___\")"
   ]
  },
  {
   "cell_type": "markdown",
   "metadata": {},
   "source": [
    "### «*?», «+?», «??», «{m, n}?» Opérateur non greedy.\n",
    "Les qualificateurs «*», «+», «?», «{m, n}» sont tous greedy (gourmands), ils valident autant de texte que possible. Parfois ce comportement n'est pas désiré.</br>\n",
    "Ajouter «?» derrière le qualificateur lui fait réaliser l'opération de façon non-greedy (ou minimal), le moins de caractères possibles seront validés."
   ]
  },
  {
   "cell_type": "code",
   "execution_count": 56,
   "metadata": {
    "pycharm": {
     "name": "#%%\n"
    }
   },
   "outputs": [
    {
     "data": {
      "text/plain": [
       "<re.Match object; span=(0, 26), match='<head><title>Title</title>'>"
      ]
     },
     "execution_count": 56,
     "metadata": {},
     "output_type": "execute_result"
    }
   ],
   "source": [
    "re.search(r\"<.*>\", \"<head><title>Title</title>\")"
   ]
  },
  {
   "cell_type": "code",
   "execution_count": 57,
   "metadata": {
    "pycharm": {
     "name": "#%%\n"
    }
   },
   "outputs": [
    {
     "data": {
      "text/plain": [
       "<re.Match object; span=(0, 6), match='<head>'>"
      ]
     },
     "execution_count": 57,
     "metadata": {},
     "output_type": "execute_result"
    }
   ],
   "source": [
    "re.search(r\"<.*?>\", \"<head><title>Title</title>\")"
   ]
  },
  {
   "cell_type": "markdown",
   "metadata": {},
   "source": [
    "### «( )» Permet de créer des groupes dans une expression régulière.\n",
    "Un groupe est représenté par une suite de caractère. On peut faire des manipulations dessus comme si c'était un seul caractère.</br>\n",
    "Peut être utilisé avec les caractères spéciaux."
   ]
  },
  {
   "cell_type": "markdown",
   "metadata": {
    "pycharm": {
     "name": "#%% md\n"
    }
   },
   "source": [
    "La RE reconnait le texte \"Helloo\"."
   ]
  },
  {
   "cell_type": "code",
   "execution_count": 58,
   "metadata": {
    "pycharm": {
     "name": "#%%\n"
    }
   },
   "outputs": [
    {
     "data": {
      "text/plain": [
       "<re.Match object; span=(3, 9), match='Helloo'>"
      ]
     },
     "execution_count": 58,
     "metadata": {},
     "output_type": "execute_result"
    }
   ],
   "source": [
    "re.search(\"Hell(oo)\", \"___Helloo___\")"
   ]
  },
  {
   "cell_type": "code",
   "execution_count": 59,
   "metadata": {
    "pycharm": {
     "name": "#%%\n"
    }
   },
   "outputs": [],
   "source": [
    "re.search(\"Hell(oo)\", \"___Hello___\")"
   ]
  },
  {
   "cell_type": "markdown",
   "metadata": {},
   "source": [
    "### Dans un groupe, le caractère « | » est utilisé pour représenter un OU afin de regrouper plusieurs expressions régulières dans un seul et même groupe.\n",
    "La RE reconnait le texte \"Helloo\" ou \"Hellaa."
   ]
  },
  {
   "cell_type": "code",
   "execution_count": 60,
   "metadata": {
    "pycharm": {
     "name": "#%%\n"
    }
   },
   "outputs": [
    {
     "data": {
      "text/plain": [
       "<re.Match object; span=(3, 9), match='Hellaa'>"
      ]
     },
     "execution_count": 60,
     "metadata": {},
     "output_type": "execute_result"
    }
   ],
   "source": [
    "re.search(\"Hell(oo|aa)\", \"___Hellaa___\")"
   ]
  },
  {
   "cell_type": "code",
   "execution_count": 61,
   "metadata": {
    "pycharm": {
     "name": "#%%\n"
    }
   },
   "outputs": [],
   "source": [
    "re.search(\"Hell(oo)\", \"___Hello___\")"
   ]
  },
  {
   "cell_type": "markdown",
   "metadata": {},
   "source": [
    "### «\\» Caractère d'échappement.\n",
    "Est utilisé pour enlever l'effet d'un caractère spécial.\n",
    "\n",
    "La RE reconnait le texte « + »."
   ]
  },
  {
   "cell_type": "code",
   "execution_count": 62,
   "metadata": {
    "pycharm": {
     "name": "#%%\n"
    }
   },
   "outputs": [
    {
     "data": {
      "text/plain": [
       "<re.Match object; span=(1, 4), match=' + '>"
      ]
     },
     "execution_count": 62,
     "metadata": {},
     "output_type": "execute_result"
    }
   ],
   "source": [
    "re.search(\" \\+ \", \"1 + 1 = 2\")"
   ]
  },
  {
   "cell_type": "code",
   "execution_count": 63,
   "metadata": {
    "pycharm": {
     "name": "#%%\n"
    }
   },
   "outputs": [],
   "source": [
    "re.search(\" + \", \"1 + 1 = 2\")"
   ]
  },
  {
   "cell_type": "markdown",
   "metadata": {
    "pycharm": {
     "name": "#%% md\n"
    }
   },
   "source": [
    "La RE reconnait le texte « \\ »."
   ]
  },
  {
   "cell_type": "code",
   "execution_count": 64,
   "metadata": {
    "pycharm": {
     "name": "#%%\n"
    }
   },
   "outputs": [
    {
     "data": {
      "text/plain": [
       "<re.Match object; span=(2, 3), match='\\\\'>"
      ]
     },
     "execution_count": 64,
     "metadata": {},
     "output_type": "execute_result"
    }
   ],
   "source": [
    "re.search(\"\\\\\\\\\", \"1 \\ 1 = 2\")"
   ]
  },
  {
   "cell_type": "code",
   "execution_count": 65,
   "metadata": {
    "pycharm": {
     "name": "#%%\n"
    }
   },
   "outputs": [
    {
     "data": {
      "text/plain": [
       "<re.Match object; span=(2, 4), match='\\\\ '>"
      ]
     },
     "execution_count": 65,
     "metadata": {},
     "output_type": "execute_result"
    }
   ],
   "source": [
    "re.search(\"\\\\\\ \", \"1 \\ 1 = 2\")  # Le caractère d’échappement est utilisé sur le \" \""
   ]
  },
  {
   "cell_type": "code",
   "execution_count": 66,
   "metadata": {
    "pycharm": {
     "name": "#%%\n"
    }
   },
   "outputs": [
    {
     "data": {
      "text/plain": [
       "<re.Match object; span=(2, 3), match='\\\\'>"
      ]
     },
     "execution_count": 66,
     "metadata": {},
     "output_type": "execute_result"
    }
   ],
   "source": [
    "re.search(r\"\\\\\", \"1 \\ 1 = 2\")"
   ]
  },
  {
   "cell_type": "markdown",
   "metadata": {
    "pycharm": {
     "name": "#%% md\n"
    }
   },
   "source": [
    "# Compilation des expressions régulières\n",
    "Les expressions régulières sont compilées (grâce à la méthode compile() ou automatiquement dans une méthode) en objets qui possèdent des méthodes pour diverses opérations telles que la recherche de correspondances ou les substitutions dans les chaînes.</br>\n",
    "re.compile() accepte aussi une option flags, utilisée pour activer des fonctionnalités particulières et des variations de syntaxe.</br>\n",
    "La liste des options disponible : https://docs.python.org/fr/3/library/re.html#re.compile</br>\n",
    "Une option peut aussi être déclaré en début d'expression réguliere de la manière suivante (?OPTIONS)</br>\n",
    "</br>\n",
    "Permet d'éviter de compiler à la volée lors de l'utilisation directe d'une chaîne de caractère en guise d'argument dans une méthode.<br/>\n",
    "Lors de l'utilisation d'une méthode il y a une compilation automatique de la RE, l'objet est compilé dans un cache afin que les appels suivants qui utilisent la même RE n'aient pas besoin d'analyser le motif une nouvelle fois donc il y a une augmentation de performance lorsque la même expression régulière est utilisée souvent à plusieurs recherches différentes.</br>\n",
    "Si l'expression régulière est à l'intérieur d'une boucle, la pré-compilation permet d'économiser quelques appels de fonctions. En dehors des boucles, il n'y a pas beaucoup de différence grâce au cache interne."
   ]
  },
  {
   "cell_type": "code",
   "execution_count": 67,
   "metadata": {
    "pycharm": {
     "name": "#%%\n"
    }
   },
   "outputs": [
    {
     "data": {
      "text/plain": [
       "<re.Match object; span=(3, 5), match='ab'>"
      ]
     },
     "execution_count": 67,
     "metadata": {},
     "output_type": "execute_result"
    }
   ],
   "source": [
    "pattern: Pattern[str] = re.compile(\"ab\")\n",
    "text: str = \"___ab___\"\n",
    "findRe: Optional[Match[str]] = pattern.search(text)\n",
    "findRe"
   ]
  },
  {
   "cell_type": "code",
   "execution_count": 68,
   "metadata": {
    "pycharm": {
     "name": "#%%\n"
    }
   },
   "outputs": [
    {
     "data": {
      "text/plain": [
       "<re.Match object; span=(0, 1), match='a'>"
      ]
     },
     "execution_count": 68,
     "metadata": {},
     "output_type": "execute_result"
    }
   ],
   "source": [
    "re.search(re.compile(\"[ab]\", flags=re.IGNORECASE), \"aabAbBBbA___\")"
   ]
  },
  {
   "cell_type": "code",
   "execution_count": 69,
   "metadata": {
    "pycharm": {
     "name": "#%%\n"
    }
   },
   "outputs": [
    {
     "data": {
      "text/plain": [
       "<re.Match object; span=(0, 9), match='aabAbBBbA'>"
      ]
     },
     "execution_count": 69,
     "metadata": {},
     "output_type": "execute_result"
    }
   ],
   "source": [
    "regex = re.compile(\"[ab]*\", flags=re.IGNORECASE)\n",
    "regex.search(\"aabAbBBbA___\")"
   ]
  },
  {
   "cell_type": "code",
   "execution_count": 70,
   "metadata": {
    "pycharm": {
     "name": "#%%\n"
    }
   },
   "outputs": [
    {
     "data": {
      "text/plain": [
       "<re.Match object; span=(0, 9), match='aabAbBBbA'>"
      ]
     },
     "execution_count": 70,
     "metadata": {},
     "output_type": "execute_result"
    }
   ],
   "source": [
    "re.compile(\"(?i)[ab]*\").search(\"aabAbBBbA___\")  # (?i) same as flags=re.IGNORECASE"
   ]
  },
  {
   "cell_type": "code",
   "execution_count": 71,
   "metadata": {
    "pycharm": {
     "name": "#%%\n"
    }
   },
   "outputs": [
    {
     "data": {
      "text/plain": [
       "['aabAbBBbA', '', '', '', '']"
      ]
     },
     "execution_count": 71,
     "metadata": {},
     "output_type": "execute_result"
    }
   ],
   "source": [
    "regex.findall(\"aabAbBBbA___\")"
   ]
  },
  {
   "cell_type": "code",
   "execution_count": 72,
   "metadata": {
    "pycharm": {
     "name": "#%%\n"
    }
   },
   "outputs": [
    {
     "data": {
      "text/plain": [
       "<re.Match object; span=(0, 0), match=''>"
      ]
     },
     "execution_count": 72,
     "metadata": {},
     "output_type": "execute_result"
    }
   ],
   "source": [
    "regex.search(\"___aabAbBBbA___\")"
   ]
  },
  {
   "cell_type": "code",
   "execution_count": 73,
   "metadata": {
    "pycharm": {
     "name": "#%%\n"
    }
   },
   "outputs": [
    {
     "data": {
      "text/plain": [
       "['', '', '', 'aabAbBBbA', '', '', '', '']"
      ]
     },
     "execution_count": 73,
     "metadata": {},
     "output_type": "execute_result"
    }
   ],
   "source": [
    "regex.findall(\"___aabAbBBbA___\")"
   ]
  },
  {
   "cell_type": "code",
   "execution_count": 74,
   "metadata": {
    "pycharm": {
     "name": "#%%\n"
    }
   },
   "outputs": [
    {
     "data": {
      "text/plain": [
       "re.compile(r'\\n &[#]                # Start of a numeric entity reference\\n (\\n     0[0-7]+         # Octal form\\n   | [0-9]+          # Decimal form\\n   | x[0-9a-fA-F]+   # Hexadecimal form\\n )\\n ;                   # Trailing semicolon\\n',\n",
       "           re.UNICODE|re.VERBOSE)"
      ]
     },
     "execution_count": 74,
     "metadata": {},
     "output_type": "execute_result"
    }
   ],
   "source": [
    "re.compile(r\"\"\"\n",
    " &[#]                # Start of a numeric entity reference\n",
    " (\n",
    "     0[0-7]+         # Octal form\n",
    "   | [0-9]+          # Decimal form\n",
    "   | x[0-9a-fA-F]+   # Hexadecimal form\n",
    " )\n",
    " ;                   # Trailing semicolon\n",
    "\"\"\", re.VERBOSE)"
   ]
  },
  {
   "cell_type": "code",
   "execution_count": 75,
   "metadata": {
    "pycharm": {
     "name": "#%%\n"
    }
   },
   "outputs": [
    {
     "data": {
      "text/plain": [
       "re.compile(r'&#(0[0-7]+|[0-9]+|x[0-9a-fA-F]+);', re.UNICODE)"
      ]
     },
     "execution_count": 75,
     "metadata": {},
     "output_type": "execute_result"
    }
   ],
   "source": [
    "re.compile(\"&#(0[0-7]+\"\n",
    "           \"|[0-9]+\"\n",
    "           \"|x[0-9a-fA-F]+);\")"
   ]
  },
  {
   "cell_type": "markdown",
   "metadata": {},
   "source": [
    "# Les classes de caractère.\n",
    "### «\\d»\n",
    "La RE reconnait un chiffre."
   ]
  },
  {
   "cell_type": "code",
   "execution_count": 76,
   "metadata": {
    "pycharm": {
     "name": "#%%\n"
    }
   },
   "outputs": [
    {
     "data": {
      "text/plain": [
       "re.compile(r'\\d', re.UNICODE)"
      ]
     },
     "execution_count": 76,
     "metadata": {},
     "output_type": "execute_result"
    }
   ],
   "source": [
    "re.compile('[0123456789]')\n",
    "re.compile('[0-9]')\n",
    "re.compile('\\d')"
   ]
  },
  {
   "cell_type": "markdown",
   "metadata": {},
   "source": [
    "### «\\D»\n",
    "La RE reconnait tout sauf un chiffre."
   ]
  },
  {
   "cell_type": "code",
   "execution_count": 77,
   "metadata": {
    "pycharm": {
     "name": "#%%\n"
    }
   },
   "outputs": [
    {
     "data": {
      "text/plain": [
       "re.compile(r'\\D', re.UNICODE)"
      ]
     },
     "execution_count": 77,
     "metadata": {},
     "output_type": "execute_result"
    }
   ],
   "source": [
    "re.compile('[^0123456789]')\n",
    "re.compile('[^0-9]')\n",
    "re.compile('\\D')"
   ]
  },
  {
   "cell_type": "markdown",
   "metadata": {},
   "source": [
    "### «\\w»\n",
    "La RE reconnait un caractère alphanumérique."
   ]
  },
  {
   "cell_type": "code",
   "execution_count": 78,
   "metadata": {
    "pycharm": {
     "name": "#%%\n"
    }
   },
   "outputs": [
    {
     "data": {
      "text/plain": [
       "re.compile(r'\\w', re.UNICODE)"
      ]
     },
     "execution_count": 78,
     "metadata": {},
     "output_type": "execute_result"
    }
   ],
   "source": [
    "re.compile('a-zA-Z0-9_')\n",
    "re.compile('\\w')"
   ]
  },
  {
   "cell_type": "markdown",
   "metadata": {},
   "source": [
    "### «\\W»\n",
    "La RE reconnait tout sauf un caractère alphanumérique."
   ]
  },
  {
   "cell_type": "code",
   "execution_count": 79,
   "metadata": {
    "pycharm": {
     "name": "#%%\n"
    }
   },
   "outputs": [
    {
     "data": {
      "text/plain": [
       "re.compile(r'^\\W', re.UNICODE)"
      ]
     },
     "execution_count": 79,
     "metadata": {},
     "output_type": "execute_result"
    }
   ],
   "source": [
    "re.compile('^a-zA-Z0-9_')\n",
    "re.compile('^\\W')"
   ]
  },
  {
   "cell_type": "markdown",
   "metadata": {},
   "source": [
    "### «\\s»\n",
    "La RE reconnait un caractère blanc."
   ]
  },
  {
   "cell_type": "code",
   "execution_count": 80,
   "metadata": {
    "pycharm": {
     "name": "#%%\n"
    }
   },
   "outputs": [
    {
     "data": {
      "text/plain": [
       "re.compile(r'\\s', re.UNICODE)"
      ]
     },
     "execution_count": 80,
     "metadata": {},
     "output_type": "execute_result"
    }
   ],
   "source": [
    "re.compile('[ \\t\\n\\r\\f\\v]')\n",
    "re.compile('\\s')"
   ]
  },
  {
   "cell_type": "markdown",
   "metadata": {},
   "source": [
    "### «\\S»\n",
    "La RE reconnait tout sauf un caractère blanc."
   ]
  },
  {
   "cell_type": "code",
   "execution_count": 81,
   "metadata": {
    "pycharm": {
     "name": "#%%\n"
    }
   },
   "outputs": [
    {
     "data": {
      "text/plain": [
       "re.compile(r'\\S', re.UNICODE)"
      ]
     },
     "execution_count": 81,
     "metadata": {},
     "output_type": "execute_result"
    }
   ],
   "source": [
    "re.compile('[^ \\t\\n\\r\\f\\v]')\n",
    "re.compile('\\S')"
   ]
  },
  {
   "cell_type": "markdown",
   "metadata": {},
   "source": [
    "La RE reconnait un caractère blanc ou \",\" ou \".\" ou une lettre en minuscule."
   ]
  },
  {
   "cell_type": "code",
   "execution_count": 82,
   "metadata": {
    "pycharm": {
     "name": "#%%\n"
    }
   },
   "outputs": [
    {
     "data": {
      "text/plain": [
       "re.compile(r'[\\s,.a-z]', re.UNICODE)"
      ]
     },
     "execution_count": 82,
     "metadata": {},
     "output_type": "execute_result"
    }
   ],
   "source": [
    "re.compile('[\\s,.a-z]')"
   ]
  },
  {
   "cell_type": "markdown",
   "metadata": {},
   "source": [
    "### «\\b»\n",
    "Correspond à la chaîne vide, mais uniquement au début ou à la fin d'un mot. Fait correspondre le mot seulement si c'est un mot complet."
   ]
  },
  {
   "cell_type": "code",
   "execution_count": 83,
   "metadata": {
    "pycharm": {
     "name": "#%%\n"
    }
   },
   "outputs": [
    {
     "data": {
      "text/plain": [
       "<re.Match object; span=(0, 5), match='class'>"
      ]
     },
     "execution_count": 83,
     "metadata": {},
     "output_type": "execute_result"
    }
   ],
   "source": [
    "re.search(r'\\bclass\\b', \"class\")"
   ]
  },
  {
   "cell_type": "code",
   "execution_count": 84,
   "metadata": {
    "pycharm": {
     "name": "#%%\n"
    }
   },
   "outputs": [],
   "source": [
    "re.search(r'\\bclass\\b', \"subclass\")"
   ]
  },
  {
   "cell_type": "markdown",
   "metadata": {},
   "source": [
    "### «\\B»\n",
    "Fait correspondre uniquement les emplacements qui ne sont pas à la limite d'un mot."
   ]
  },
  {
   "cell_type": "markdown",
   "metadata": {},
   "source": [
    "# Les méthodes du module re.py.\n",
    "### search(reg, text)\n",
    "On effectue une recherche d'une correspondance dans un texte à l'aide d'une expression régulière avec la méthode search.<br/>\n",
    "Si la RE trouve une correspondance, retourne un objet Match sinon retourne None.</br>\n",
    "Ne renvoie que la première zone qui correspond à la RE, même s'il en existe plusieurs.</br>"
   ]
  },
  {
   "cell_type": "code",
   "execution_count": 85,
   "metadata": {
    "pycharm": {
     "name": "#%%\n"
    }
   },
   "outputs": [
    {
     "data": {
      "text/plain": [
       "'3.14'"
      ]
     },
     "execution_count": 85,
     "metadata": {},
     "output_type": "execute_result"
    }
   ],
   "source": [
    "decimal = re.compile(\"([0-9]+)\\.([0-9]+)\")\n",
    "decimal.search(\"pi=3.14, e=2.72\").group()"
   ]
  },
  {
   "cell_type": "markdown",
   "metadata": {},
   "source": [
    "### match(reg, text)\n",
    "On effectue une recherche d'une correspondance au début d'un texte avec la méthode match.<br/>Si la RE trouve une correspondance, retourne un objet Match sinon retourne None."
   ]
  },
  {
   "cell_type": "markdown",
   "metadata": {
    "pycharm": {
     "name": "#%% md\n"
    }
   },
   "source": [
    "La RE reconnait le texte \"aaa\" mais qu'en début de chaine."
   ]
  },
  {
   "cell_type": "code",
   "execution_count": 86,
   "metadata": {
    "pycharm": {
     "name": "#%%\n"
    }
   },
   "outputs": [
    {
     "data": {
      "text/plain": [
       "<re.Match object; span=(0, 3), match='aaa'>"
      ]
     },
     "execution_count": 86,
     "metadata": {},
     "output_type": "execute_result"
    }
   ],
   "source": [
    "text = \"aaa bbb ccc\"\n",
    "_: Match[str] | None = re.match(\"aaa\", text)\n",
    "_"
   ]
  },
  {
   "cell_type": "code",
   "execution_count": 87,
   "metadata": {
    "pycharm": {
     "name": "#%%\n"
    }
   },
   "outputs": [
    {
     "data": {
      "text/plain": [
       "<re.Match object; span=(0, 3), match='aaa'>"
      ]
     },
     "execution_count": 87,
     "metadata": {},
     "output_type": "execute_result"
    }
   ],
   "source": [
    "re.search(\"^aaa\", text)"
   ]
  },
  {
   "cell_type": "code",
   "execution_count": 88,
   "metadata": {
    "pycharm": {
     "name": "#%%\n"
    }
   },
   "outputs": [],
   "source": [
    "re.match(\"bbb\", text)"
   ]
  },
  {
   "cell_type": "markdown",
   "metadata": {
    "pycharm": {
     "name": "#%% md\n"
    }
   },
   "source": [
    "### fullmatch(reg, text)\n",
    "On effectue une recherche d'une correspondance correspondant exactement à la chaine de caractères avec la méthode fullmatch.<br/>Si la RE trouve une correspondance, retourne un objet Match sinon retourne None.\n",
    "La RE reconnait le texte \"aaa\" mais qu'en début de chaine."
   ]
  },
  {
   "cell_type": "code",
   "execution_count": 89,
   "metadata": {
    "pycharm": {
     "name": "#%%\n"
    }
   },
   "outputs": [
    {
     "data": {
      "text/plain": [
       "<re.Match object; span=(0, 6), match='azerty'>"
      ]
     },
     "execution_count": 89,
     "metadata": {},
     "output_type": "execute_result"
    }
   ],
   "source": [
    "text = \"azerty\"\n",
    "_: Match[str] | None = re.fullmatch(\"azerty\", text)\n",
    "_"
   ]
  },
  {
   "cell_type": "code",
   "execution_count": 90,
   "metadata": {
    "pycharm": {
     "name": "#%%\n"
    }
   },
   "outputs": [],
   "source": [
    "_: Match[str] | None = re.search(\"^azerty$\", text)"
   ]
  },
  {
   "cell_type": "code",
   "execution_count": 91,
   "metadata": {
    "pycharm": {
     "name": "#%%\n"
    }
   },
   "outputs": [],
   "source": [
    "_: Match[str] | None = re.fullmatch(\"azertyo\", text)\n",
    "_"
   ]
  },
  {
   "cell_type": "code",
   "execution_count": 92,
   "metadata": {
    "pycharm": {
     "name": "#%%\n"
    }
   },
   "outputs": [],
   "source": [
    "findPattern: Optional[Match[str]] = pattern.search(text)\n",
    "findPattern"
   ]
  },
  {
   "cell_type": "markdown",
   "metadata": {},
   "source": [
    "### start() & end() & span()\n",
    "A utiliser sur un objet re.Match.</br>\n",
    "Permet d'obtenir l'index où se situe le premier et le dernier caractère d'une correspondance trouvé dans un texte."
   ]
  },
  {
   "cell_type": "code",
   "execution_count": 93,
   "metadata": {
    "pycharm": {
     "name": "#%%\n"
    }
   },
   "outputs": [],
   "source": [
    "text = \"aaabbbccc\"\n",
    "find = re.search(\"bbb\", text)"
   ]
  },
  {
   "cell_type": "code",
   "execution_count": 94,
   "metadata": {
    "pycharm": {
     "name": "#%%\n"
    }
   },
   "outputs": [
    {
     "data": {
      "text/plain": [
       "3"
      ]
     },
     "execution_count": 94,
     "metadata": {},
     "output_type": "execute_result"
    }
   ],
   "source": [
    "_: int = find.start()\n",
    "_"
   ]
  },
  {
   "cell_type": "code",
   "execution_count": 95,
   "metadata": {
    "pycharm": {
     "name": "#%%\n"
    }
   },
   "outputs": [
    {
     "data": {
      "text/plain": [
       "6"
      ]
     },
     "execution_count": 95,
     "metadata": {},
     "output_type": "execute_result"
    }
   ],
   "source": [
    "_: int = find.end()\n",
    "_"
   ]
  },
  {
   "cell_type": "code",
   "execution_count": 96,
   "metadata": {
    "pycharm": {
     "name": "#%%\n"
    }
   },
   "outputs": [
    {
     "data": {
      "text/plain": [
       "(3, 6)"
      ]
     },
     "execution_count": 96,
     "metadata": {},
     "output_type": "execute_result"
    }
   ],
   "source": [
    "_: tuple[int, int] = find.span()\n",
    "_"
   ]
  },
  {
   "cell_type": "markdown",
   "metadata": {},
   "source": [
    "### findall(reg)\n",
    "Lorsque une expression régulière trouve plusieurs textes, renvoie une liste de toutes les correspondances qui ont été trouvées.</br>\n",
    "Si la RE manipule les groupes, alors renvoie une liste de tuples sous la forme (group(1), group(2), ...)."
   ]
  },
  {
   "cell_type": "code",
   "execution_count": 97,
   "metadata": {
    "pycharm": {
     "name": "#%%\n"
    }
   },
   "outputs": [
    {
     "data": {
      "text/plain": [
       "['3.14', '2.72']"
      ]
     },
     "execution_count": 97,
     "metadata": {},
     "output_type": "execute_result"
    }
   ],
   "source": [
    "_: list[Any] = re.findall(\"[0-9]+\\.[0-9]+\", \"pi=3.14, e=2.72\")\n",
    "_"
   ]
  },
  {
   "cell_type": "code",
   "execution_count": 98,
   "metadata": {
    "pycharm": {
     "name": "#%%\n"
    }
   },
   "outputs": [
    {
     "data": {
      "text/plain": [
       "[('3', '14'), ('2', '72')]"
      ]
     },
     "execution_count": 98,
     "metadata": {},
     "output_type": "execute_result"
    }
   ],
   "source": [
    "re.findall(decimal, \"pi=3.14, e=2.72\")"
   ]
  },
  {
   "cell_type": "markdown",
   "metadata": {},
   "source": [
    "### split()\n",
    "Divise une chaîne de caractères en retournant la liste des morceaux."
   ]
  },
  {
   "cell_type": "code",
   "execution_count": 99,
   "metadata": {
    "pycharm": {
     "name": "#%%\n"
    }
   },
   "outputs": [
    {
     "data": {
      "text/plain": [
       "['pi=', '3', '14', ', e=', '2', '72', '']"
      ]
     },
     "execution_count": 99,
     "metadata": {},
     "output_type": "execute_result"
    }
   ],
   "source": [
    "_: list[str | Any] = re.split(decimal, \"pi=3.14, e=2.72\")\n",
    "_"
   ]
  },
  {
   "cell_type": "markdown",
   "metadata": {},
   "source": [
    "### Les groupes\n",
    "Les groupes peuvent être extraits en utilisant la méthode group(int).</br>\n",
    "Le résultat trouvé par une recherche est donnée par group(0) ou group().</br>\n",
    "Les numéros des groupes correspondent à leur ordre d'apparition."
   ]
  },
  {
   "cell_type": "code",
   "execution_count": 100,
   "metadata": {
    "pycharm": {
     "name": "#%%\n"
    }
   },
   "outputs": [],
   "source": [
    "find: Optional[Match[str]] = decimal.search(\"pi vaut 3.14.\")"
   ]
  },
  {
   "cell_type": "code",
   "execution_count": 101,
   "metadata": {
    "pycharm": {
     "name": "#%%\n"
    }
   },
   "outputs": [
    {
     "data": {
      "text/plain": [
       "'3.14'"
      ]
     },
     "execution_count": 101,
     "metadata": {},
     "output_type": "execute_result"
    }
   ],
   "source": [
    "nombre = find.group(0)\n",
    "nombre"
   ]
  },
  {
   "cell_type": "code",
   "execution_count": 102,
   "metadata": {
    "pycharm": {
     "name": "#%%\n"
    }
   },
   "outputs": [
    {
     "data": {
      "text/plain": [
       "'3'"
      ]
     },
     "execution_count": 102,
     "metadata": {},
     "output_type": "execute_result"
    }
   ],
   "source": [
    "ent = find.group(1)\n",
    "ent"
   ]
  },
  {
   "cell_type": "code",
   "execution_count": 103,
   "metadata": {
    "pycharm": {
     "name": "#%%\n"
    }
   },
   "outputs": [
    {
     "data": {
      "text/plain": [
       "'14'"
      ]
     },
     "execution_count": 103,
     "metadata": {},
     "output_type": "execute_result"
    }
   ],
   "source": [
    "dec = find.group(2)\n",
    "dec"
   ]
  },
  {
   "cell_type": "code",
   "execution_count": 104,
   "metadata": {
    "pycharm": {
     "name": "#%%\n"
    }
   },
   "outputs": [
    {
     "data": {
      "text/plain": [
       "('3', '14', '14', '3')"
      ]
     },
     "execution_count": 104,
     "metadata": {},
     "output_type": "execute_result"
    }
   ],
   "source": [
    "_: tuple[str | Any, ...] = find.group(1, 2, 2, 1)\n",
    "_"
   ]
  },
  {
   "cell_type": "code",
   "execution_count": 105,
   "metadata": {
    "pycharm": {
     "name": "#%%\n"
    }
   },
   "outputs": [
    {
     "data": {
      "text/plain": [
       "('3', '14')"
      ]
     },
     "execution_count": 105,
     "metadata": {},
     "output_type": "execute_result"
    }
   ],
   "source": [
    "_: tuple[str | Any, ...] = find.groups()\n",
    "_"
   ]
  },
  {
   "cell_type": "code",
   "execution_count": 106,
   "metadata": {
    "pycharm": {
     "name": "#%%\n"
    }
   },
   "outputs": [
    {
     "data": {
      "text/plain": [
       "('red',)"
      ]
     },
     "execution_count": 106,
     "metadata": {},
     "output_type": "execute_result"
    }
   ],
   "source": [
    "re.search(re.compile('(blue|white|red)'), \"I like red and blue\").groups()"
   ]
  },
  {
   "cell_type": "code",
   "execution_count": 107,
   "metadata": {
    "pycharm": {
     "name": "#%%\n"
    }
   },
   "outputs": [
    {
     "data": {
      "text/plain": [
       "['red', 'blue']"
      ]
     },
     "execution_count": 107,
     "metadata": {},
     "output_type": "execute_result"
    }
   ],
   "source": [
    "re.findall(re.compile('(blue|white|red)'), \"I like red and blue\")"
   ]
  },
  {
   "cell_type": "markdown",
   "metadata": {},
   "source": [
    "Les sous-groupes sont numérotés de la gauche vers la droite et à partir du numéro 1. Les groupes peuvent être imbriqués. Pour déterminer le numéro, il suffit de compter le nombre de parenthèses ouvrantes de la gauche vers la droite."
   ]
  },
  {
   "cell_type": "code",
   "execution_count": 108,
   "metadata": {
    "pycharm": {
     "name": "#%%\n"
    }
   },
   "outputs": [
    {
     "data": {
      "text/plain": [
       "('abc', 'b')"
      ]
     },
     "execution_count": 108,
     "metadata": {},
     "output_type": "execute_result"
    }
   ],
   "source": [
    "re.compile('(a(b)c)d').match('abcd').groups()"
   ]
  },
  {
   "cell_type": "markdown",
   "metadata": {},
   "source": [
    "### Nommage d'un groupe.\n",
    "Les groupes peuvent être nommés en plus d'être automatiquement numérotés."
   ]
  },
  {
   "cell_type": "code",
   "execution_count": 109,
   "metadata": {
    "pycharm": {
     "name": "#%%\n"
    }
   },
   "outputs": [
    {
     "data": {
      "text/plain": [
       "'3.14'"
      ]
     },
     "execution_count": 109,
     "metadata": {},
     "output_type": "execute_result"
    }
   ],
   "source": [
    "res = re.compile(\"(?P<entier>[0-9]+)\\.(?P<decimal>[0-9]+)\").search(\"pi=3.14\")\n",
    "res.group(0)"
   ]
  },
  {
   "cell_type": "code",
   "execution_count": 110,
   "metadata": {
    "pycharm": {
     "name": "#%%\n"
    }
   },
   "outputs": [
    {
     "data": {
      "text/plain": [
       "'3'"
      ]
     },
     "execution_count": 110,
     "metadata": {},
     "output_type": "execute_result"
    }
   ],
   "source": [
    "res.group(1)\n",
    "res.group(\"entier\")"
   ]
  },
  {
   "cell_type": "code",
   "execution_count": 111,
   "metadata": {
    "pycharm": {
     "name": "#%%\n"
    }
   },
   "outputs": [
    {
     "data": {
      "text/plain": [
       "'14'"
      ]
     },
     "execution_count": 111,
     "metadata": {},
     "output_type": "execute_result"
    }
   ],
   "source": [
    "res.group(2)\n",
    "res.group(\"decimal\")"
   ]
  },
  {
   "cell_type": "code",
   "execution_count": 112,
   "metadata": {
    "pycharm": {
     "name": "#%%\n"
    }
   },
   "outputs": [
    {
     "data": {
      "text/plain": [
       "{'entier': '3', 'decimal': '14'}"
      ]
     },
     "execution_count": 112,
     "metadata": {},
     "output_type": "execute_result"
    }
   ],
   "source": [
    "res.groupdict()"
   ]
  },
  {
   "cell_type": "markdown",
   "metadata": {},
   "source": [
    "### Réutilisation d'un même groupe.\n",
    "On peut réutiliser les groupes lors de leurs déclaration dans la RE avec le caractère «\\» suivit de son numéro ou de son nom de groupe. On réutilise alors la valeur du groupe et non son expression."
   ]
  },
  {
   "cell_type": "code",
   "execution_count": 113,
   "metadata": {
    "pycharm": {
     "name": "#%%\n"
    }
   },
   "outputs": [
    {
     "data": {
      "text/plain": [
       "<re.Match object; span=(0, 9), match='3.14 3.14'>"
      ]
     },
     "execution_count": 113,
     "metadata": {},
     "output_type": "execute_result"
    }
   ],
   "source": [
    "re.search(r\"\\b(?P<nombre>(?P<entier>[0-9]+)\\.(?P<decimal>[0-9]+))\\s\\1\\b\", \"3.14 3.14\")\n",
    "re.search(r\"\\b(?P<nombre>(?P<entier>[0-9]+)\\.(?P<decimal>[0-9]+))\\s(?P=nombre)\\b\", \"3.14 3.14\")"
   ]
  },
  {
   "cell_type": "code",
   "execution_count": 114,
   "metadata": {
    "pycharm": {
     "name": "#%%\n"
    }
   },
   "outputs": [],
   "source": [
    "re.search(r\"\\b(?P<nombre>(?P<entier>[0-9]+)\\.(?P<decimal>[0-9]+))\\s(?P=entier)\\b\", \"3.14 2.72\")"
   ]
  },
  {
   "cell_type": "markdown",
   "metadata": {},
   "source": []
  },
  {
   "cell_type": "markdown",
   "metadata": {},
   "source": [
    "La RE reconnait le texte commençant par un mot suivit par un point et finissant par \"bat\" ou \"exe\"."
   ]
  },
  {
   "cell_type": "code",
   "execution_count": 115,
   "metadata": {
    "pycharm": {
     "name": "#%%\n"
    }
   },
   "outputs": [
    {
     "data": {
      "text/plain": [
       "<re.Match object; span=(0, 9), match='salut.exe'>"
      ]
     },
     "execution_count": 115,
     "metadata": {},
     "output_type": "execute_result"
    }
   ],
   "source": [
    "re.search(r\".*[.](?=bat$|exe$)[^.]*$\", \"salut.exe\")"
   ]
  },
  {
   "cell_type": "code",
   "execution_count": 116,
   "metadata": {
    "pycharm": {
     "name": "#%%\n"
    }
   },
   "outputs": [
    {
     "data": {
      "text/plain": [
       "<re.Match object; span=(0, 6), match='salut.'>"
      ]
     },
     "execution_count": 116,
     "metadata": {},
     "output_type": "execute_result"
    }
   ],
   "source": [
    "re.search(r\".*[.](?=bat$|exe$)\", \"salut.exe\")"
   ]
  },
  {
   "cell_type": "code",
   "execution_count": 117,
   "metadata": {
    "pycharm": {
     "name": "#%%\n"
    }
   },
   "outputs": [],
   "source": [
    "re.search(r\".*[.](?=bat$|exe$)[^.]*$\", \"salut.ese\")"
   ]
  },
  {
   "cell_type": "markdown",
   "metadata": {},
   "source": [
    "### «(?!reg)» Assertion prédictive négative.\n",
    "Réussit si l'expression régulière ne correspond pas à l'emplacement, sinon elle échoue."
   ]
  },
  {
   "cell_type": "markdown",
   "metadata": {},
   "source": [
    "La RE reconnait le texte commençant par un mot suivit par un point et ne finissant pas par \"bat\"."
   ]
  },
  {
   "cell_type": "code",
   "execution_count": 118,
   "metadata": {
    "pycharm": {
     "name": "#%%\n"
    }
   },
   "outputs": [
    {
     "data": {
      "text/plain": [
       "<re.Match object; span=(0, 9), match='salut.bar'>"
      ]
     },
     "execution_count": 118,
     "metadata": {},
     "output_type": "execute_result"
    }
   ],
   "source": [
    "re.search(r\".*[.](?!bat$)[^.]*$\", \"salut.bar\")"
   ]
  },
  {
   "cell_type": "code",
   "execution_count": 119,
   "metadata": {
    "pycharm": {
     "name": "#%%\n"
    }
   },
   "outputs": [],
   "source": [
    "re.search(r\".*[.](?!bat$)[^.]*$\", \"salut.bat\")"
   ]
  },
  {
   "cell_type": "markdown",
   "metadata": {},
   "source": [
    "### «(?<=reg)» Positive lookbehind assertion.\n",
    "Réussit si l'expression régulière entre parenthèse a été trouvé avant la position actuelle, sinon elle échoue."
   ]
  },
  {
   "cell_type": "code",
   "execution_count": 120,
   "metadata": {
    "pycharm": {
     "name": "#%%\n"
    }
   },
   "outputs": [
    {
     "data": {
      "text/plain": [
       "<re.Match object; span=(6, 9), match='def'>"
      ]
     },
     "execution_count": 120,
     "metadata": {},
     "output_type": "execute_result"
    }
   ],
   "source": [
    "re.search('(?<=abc)def', '___abcdef')"
   ]
  },
  {
   "cell_type": "code",
   "execution_count": 121,
   "metadata": {
    "pycharm": {
     "name": "#%%\n"
    }
   },
   "outputs": [],
   "source": [
    "re.search('(?<=abc)def', '___a_bcdef')"
   ]
  },
  {
   "cell_type": "markdown",
   "metadata": {},
   "source": [
    "### «(?<!reg)» Negative lookbehind assertion.\n",
    "Réussit si l'expression régulière entre parenthèse n'a pas été trouvé avant la position actuelle, sinon elle échoue."
   ]
  },
  {
   "cell_type": "code",
   "execution_count": 122,
   "metadata": {
    "pycharm": {
     "name": "#%%\n"
    }
   },
   "outputs": [
    {
     "data": {
      "text/plain": [
       "<re.Match object; span=(4, 7), match='def'>"
      ]
     },
     "execution_count": 122,
     "metadata": {},
     "output_type": "execute_result"
    }
   ],
   "source": [
    "re.search('(?<!abc)def', 'a_bcdef')"
   ]
  },
  {
   "cell_type": "code",
   "execution_count": 123,
   "metadata": {
    "pycharm": {
     "name": "#%%\n"
    }
   },
   "outputs": [],
   "source": [
    "re.search('(?<!abc)def', 'abcdef')"
   ]
  },
  {
   "cell_type": "markdown",
   "metadata": {},
   "source": [
    "### «(?:reg)»\n",
    "Une version sans capture. L'expression rationnelle à l'intérieur des parenthèses ne peut pas être récupérée après l'analyse ou être référencée plus loin dans le motif."
   ]
  },
  {
   "cell_type": "code",
   "execution_count": 124,
   "metadata": {
    "pycharm": {
     "name": "#%%\n"
    }
   },
   "outputs": [
    {
     "data": {
      "text/plain": [
       "('abc', 'b')"
      ]
     },
     "execution_count": 124,
     "metadata": {},
     "output_type": "execute_result"
    }
   ],
   "source": [
    "re.search('(a(b)c)', 'abc').groups()"
   ]
  },
  {
   "cell_type": "code",
   "execution_count": 125,
   "metadata": {
    "pycharm": {
     "name": "#%%\n"
    }
   },
   "outputs": [
    {
     "data": {
      "text/plain": [
       "('abc',)"
      ]
     },
     "execution_count": 125,
     "metadata": {},
     "output_type": "execute_result"
    }
   ],
   "source": [
    "re.search('(a(?:b)c)', 'abc').groups()"
   ]
  },
  {
   "cell_type": "markdown",
   "metadata": {},
   "source": [
    "### «(?#reg)»\n",
    "Le contenu des parenthèses est ignoré."
   ]
  },
  {
   "cell_type": "code",
   "execution_count": 126,
   "metadata": {
    "pycharm": {
     "name": "#%%\n"
    }
   },
   "outputs": [
    {
     "data": {
      "text/plain": [
       "<re.Match object; span=(0, 2), match='ac'>"
      ]
     },
     "execution_count": 126,
     "metadata": {},
     "output_type": "execute_result"
    }
   ],
   "source": [
    "re.search('(a(?#b)c)', 'ac')"
   ]
  },
  {
   "cell_type": "code",
   "execution_count": 127,
   "metadata": {
    "pycharm": {
     "name": "#%%\n"
    }
   },
   "outputs": [],
   "source": [
    "re.search('(a(?#b)c)', 'abc')"
   ]
  },
  {
   "cell_type": "markdown",
   "metadata": {
    "pycharm": {
     "name": "#%% md\n"
    }
   },
   "source": [
    "### «(?(group_id)regA|regB)»</br>\n",
    "### «(?(group_name)regA|regB)»\n",
    "Une version de capture conditionnel.\n",
    "Fait la correspondance avec regA si le groupe indiqué par id ou name existe, et avec regB s'il n'existe pas. regB est optionnel."
   ]
  },
  {
   "cell_type": "markdown",
   "metadata": {},
   "source": [
    "La RE reconnait que les mails sous la forme \"<mail\\>\" ou \"mail\"."
   ]
  },
  {
   "cell_type": "code",
   "execution_count": 128,
   "metadata": {
    "pycharm": {
     "name": "#%%\n"
    }
   },
   "outputs": [
    {
     "data": {
      "text/plain": [
       "<re.Match object; span=(0, 15), match='<user@host.com>'>"
      ]
     },
     "execution_count": 128,
     "metadata": {},
     "output_type": "execute_result"
    }
   ],
   "source": [
    "re.search(r'(?P<prefix><)?\\w+@\\w+\\.(?P<extension>\\w+)+(?(prefix)>$|$)', '<user@host.com>')"
   ]
  },
  {
   "cell_type": "code",
   "execution_count": 129,
   "metadata": {
    "pycharm": {
     "name": "#%%\n"
    }
   },
   "outputs": [
    {
     "data": {
      "text/plain": [
       "<re.Match object; span=(0, 13), match='user@host.com'>"
      ]
     },
     "execution_count": 129,
     "metadata": {},
     "output_type": "execute_result"
    }
   ],
   "source": [
    "re.search(r'(?P<prefix><)?\\w+@\\w+\\.(?P<extension>\\w+)+(?(prefix)>$|$)', 'user@host.com')"
   ]
  },
  {
   "cell_type": "code",
   "execution_count": 130,
   "metadata": {
    "pycharm": {
     "name": "#%%\n"
    }
   },
   "outputs": [
    {
     "data": {
      "text/plain": [
       "<re.Match object; span=(1, 14), match='user@host.com'>"
      ]
     },
     "execution_count": 130,
     "metadata": {},
     "output_type": "execute_result"
    }
   ],
   "source": [
    "re.search(r'(?P<prefix><)?\\w+@\\w+\\.(?P<extension>\\w+)+(?(prefix)>$|$)', '<user@host.com')"
   ]
  },
  {
   "cell_type": "code",
   "execution_count": 131,
   "metadata": {
    "pycharm": {
     "name": "#%%\n"
    }
   },
   "outputs": [],
   "source": [
    "re.search(r'(?P<prefix><)?\\w+@\\w+\\.(?P<extension>\\w+)+(?(prefix)>$|$)', 'user@host.com>')"
   ]
  },
  {
   "cell_type": "markdown",
   "metadata": {},
   "source": [
    "# Le remplacement de correspondance.\n",
    "### sub(reg, texte) & subn\n",
    "Permet d'effectuer des remplacements sur les correspondances trouvées d'une expression régulière.</br>\n",
    "Si un remplacement peut être effecuté simplement grâce au module str, alors utiliser le module str qui est plus rapide pour de simple remplacement plutôt que le module re."
   ]
  },
  {
   "cell_type": "code",
   "execution_count": 132,
   "metadata": {
    "pycharm": {
     "name": "#%%\n"
    }
   },
   "outputs": [
    {
     "data": {
      "text/plain": [
       "'pi=xxx, e=xxx'"
      ]
     },
     "execution_count": 132,
     "metadata": {},
     "output_type": "execute_result"
    }
   ],
   "source": [
    "_: str = re.sub(decimal, \"xxx\", \"pi=3.14, e=2.72\")\n",
    "_"
   ]
  },
  {
   "cell_type": "code",
   "execution_count": 133,
   "metadata": {
    "pycharm": {
     "name": "#%%\n"
    }
   },
   "outputs": [
    {
     "data": {
      "text/plain": [
       "'pi=xxx, e=2.72'"
      ]
     },
     "execution_count": 133,
     "metadata": {},
     "output_type": "execute_result"
    }
   ],
   "source": [
    "re.sub(decimal, \"xxx\", \"pi=3.14, e=2.72\", count=1)"
   ]
  },
  {
   "cell_type": "markdown",
   "metadata": {},
   "source": [
    "### Il est possible de remplacer les correspondances en utilisant les groupes grâce à «\\\\\\n» où n correspond au nom du groupe. Il est aussi possible d'utiliser le nommage de groupe ou une fonction."
   ]
  },
  {
   "cell_type": "code",
   "execution_count": 134,
   "metadata": {
    "pycharm": {
     "name": "#%%\n"
    }
   },
   "outputs": [
    {
     "data": {
      "text/plain": [
       "'pi=|3|, e=|2|'"
      ]
     },
     "execution_count": 134,
     "metadata": {},
     "output_type": "execute_result"
    }
   ],
   "source": [
    "re.sub(decimal, r\"|\\1|\", \"pi=3.14, e=2.72\")\n",
    "re.sub(decimal, \"|\\\\1|\", \"pi=3.14, e=2.72\")"
   ]
  },
  {
   "cell_type": "code",
   "execution_count": 135,
   "metadata": {
    "pycharm": {
     "name": "#%%\n"
    }
   },
   "outputs": [
    {
     "data": {
      "text/plain": [
       "'pi=|14|, e=|72|'"
      ]
     },
     "execution_count": 135,
     "metadata": {},
     "output_type": "execute_result"
    }
   ],
   "source": [
    "re.sub(decimal, \"|\\\\2|\", \"pi=3.14, e=2.72\")"
   ]
  },
  {
   "cell_type": "code",
   "execution_count": 136,
   "metadata": {
    "pycharm": {
     "name": "#%%\n"
    }
   },
   "outputs": [
    {
     "data": {
      "text/plain": [
       "'Entier de {pi} = {3}, Entier de {e} = {2}'"
      ]
     },
     "execution_count": 136,
     "metadata": {},
     "output_type": "execute_result"
    }
   ],
   "source": [
    "decimal = re.compile(\"(?P<nom>\\w*)=(?P<entier>[0-9]+)\\.(?P<decimal>[0-9]+)\")\n",
    "decimal.sub(r\"Entier de {\\g<nom>} = {\\g<entier>}\", \"pi=3.14, e=2.72\")"
   ]
  },
  {
   "cell_type": "code",
   "execution_count": 137,
   "metadata": {
    "pycharm": {
     "name": "#%%\n"
    }
   },
   "outputs": [
    {
     "data": {
      "text/plain": [
       "'Entier de {pi} = {3}, e=2.72'"
      ]
     },
     "execution_count": 137,
     "metadata": {},
     "output_type": "execute_result"
    }
   ],
   "source": [
    "decimal.sub(r\"Entier de {\\g<nom>} = {\\g<entier>}\", \"pi=3.14, e=2.72\", count=1)"
   ]
  },
  {
   "cell_type": "code",
   "execution_count": 138,
   "metadata": {
    "pycharm": {
     "name": "#%%\n"
    }
   },
   "outputs": [
    {
     "data": {
      "text/plain": [
       "'pi ² 9.8596, e ² 7.398400000000001'"
      ]
     },
     "execution_count": 138,
     "metadata": {},
     "output_type": "execute_result"
    }
   ],
   "source": [
    "re.sub(\"(?P<entier>[0-9]+)\\.(?P<decimal>[0-9]+)\", lambda x: \"² \" + str(float(x.group()) ** 2), \"pi 3.14, e 2.72\")"
   ]
  },
  {
   "cell_type": "markdown",
   "metadata": {},
   "source": [
    "subn fait la même chose mais renvoie un couple contenant la nouvelle valeur de la chaîne de caractères et le nombre de remplacements effectués."
   ]
  },
  {
   "cell_type": "code",
   "execution_count": 139,
   "metadata": {
    "pycharm": {
     "name": "#%%\n"
    }
   },
   "outputs": [
    {
     "data": {
      "text/plain": [
       "('|pi|, |e|', 2)"
      ]
     },
     "execution_count": 139,
     "metadata": {},
     "output_type": "execute_result"
    }
   ],
   "source": [
    "re.subn(decimal, \"|\\\\1|\", \"pi=3.14, e=2.72\")"
   ]
  },
  {
   "cell_type": "markdown",
   "metadata": {
    "pycharm": {
     "name": "#%% md\n"
    }
   },
   "source": [
    "# Tips.\n",
    "Reconnait les nombres décimaux et créer deux groupes. Le premier correspond à la partie entière et le deuxième la partie décimale."
   ]
  },
  {
   "cell_type": "code",
   "execution_count": 140,
   "metadata": {
    "pycharm": {
     "name": "#%%\n"
    }
   },
   "outputs": [],
   "source": [
    "decimal = re.compile(\"([0-9]+)\\.([0-9]+)\")"
   ]
  },
  {
   "cell_type": "markdown",
   "metadata": {},
   "source": [
    "Balise html."
   ]
  },
  {
   "cell_type": "code",
   "execution_count": 141,
   "metadata": {
    "pycharm": {
     "name": "#%%\n"
    }
   },
   "outputs": [
    {
     "data": {
      "text/plain": [
       "<re.Match object; span=(0, 6), match='<html>'>"
      ]
     },
     "execution_count": 141,
     "metadata": {},
     "output_type": "execute_result"
    }
   ],
   "source": [
    "re.search(r'<.*?>', '<html><head><title>Title</title>')"
   ]
  },
  {
   "cell_type": "markdown",
   "metadata": {},
   "source": [
    "Reconnait les mots doublés dans une chaîne."
   ]
  },
  {
   "cell_type": "code",
   "execution_count": 142,
   "metadata": {
    "pycharm": {
     "name": "#%%\n"
    }
   },
   "outputs": [
    {
     "data": {
      "text/plain": [
       "<re.Match object; span=(9, 16), match='the the'>"
      ]
     },
     "execution_count": 142,
     "metadata": {},
     "output_type": "execute_result"
    }
   ],
   "source": [
    "doubleWord = re.compile(r'\\b(\\w+)\\s+\\1\\b')\n",
    "doubleWordNamed = re.compile(r'\\b(?P<mot>\\w+)\\s+(?P=mot)\\b')\n",
    "doubleWord.search('Paris in the the the spring')"
   ]
  },
  {
   "cell_type": "markdown",
   "metadata": {
    "pycharm": {
     "name": "#%% md\n"
    }
   },
   "source": [
    "# Sources\n",
    "https://docs.python.org/fr/3/howto/regex.html</br>\n",
    "https://docs.python.org/fr/3/library/re.html</br>\n",
    "https://python.sdv.univ-paris-diderot.fr/16_expressions_regulieres/</br>"
   ]
  }
 ],
 "metadata": {
  "kernelspec": {
   "display_name": "Python 3 (ipykernel)",
   "language": "python",
   "name": "python3"
  },
  "language_info": {
   "codemirror_mode": {
    "name": "ipython",
    "version": 3
   },
   "file_extension": ".py",
   "mimetype": "text/x-python",
   "name": "python",
   "nbconvert_exporter": "python",
   "pygments_lexer": "ipython3",
   "version": "3.10.9"
  },
  "toc": {
   "base_numbering": 1,
   "nav_menu": {},
   "number_sections": true,
   "sideBar": true,
   "skip_h1_title": false,
   "title_cell": "Table of Contents",
   "title_sidebar": "Contents",
   "toc_cell": true,
   "toc_position": {},
   "toc_section_display": true,
   "toc_window_display": true
  }
 },
 "nbformat": 4,
 "nbformat_minor": 1
}
